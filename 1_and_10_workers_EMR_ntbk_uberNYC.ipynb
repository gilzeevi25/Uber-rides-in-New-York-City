{
  "cells": [
    {
      "cell_type": "code",
      "execution_count": null,
      "id": "4897eb51",
      "metadata": {
        "id": "4897eb51",
        "outputId": "37e3f117-3f83-4a22-e373-f1b6d5ebb7c4",
        "colab": {
          "referenced_widgets": [
            "c8b40948fa4044f4a9a03f54ce8757ee",
            ""
          ]
        }
      },
      "outputs": [
        {
          "data": {
            "application/vnd.jupyter.widget-view+json": {
              "model_id": "c8b40948fa4044f4a9a03f54ce8757ee",
              "version_major": 2,
              "version_minor": 0
            },
            "text/plain": [
              "VBox()"
            ]
          },
          "metadata": {},
          "output_type": "display_data"
        },
        {
          "name": "stdout",
          "output_type": "stream",
          "text": [
            "Starting Spark application\n"
          ]
        },
        {
          "data": {
            "text/html": [
              "<table>\n",
              "<tr><th>ID</th><th>YARN Application ID</th><th>Kind</th><th>State</th><th>Spark UI</th><th>Driver log</th><th>Current session?</th></tr><tr><td>0</td><td>application_1627460240146_0003</td><td>pyspark</td><td>idle</td><td><a target=\"_blank\" href=\"http://ip-172-31-42-44.ec2.internal:20888/proxy/application_1627460240146_0003/\" class=\"emr-proxy-link\" emr-resource=\"j-2QPEZFE2ES7MI\n",
              "\" application-id=\"application_1627460240146_0003\">Link</a></td><td><a target=\"_blank\" href=\"http://ip-172-31-37-210.ec2.internal:8042/node/containerlogs/container_1627460240146_0003_01_000001/livy\" >Link</a></td><td>✔</td></tr></table>"
            ],
            "text/plain": [
              "<IPython.core.display.HTML object>"
            ]
          },
          "metadata": {},
          "output_type": "display_data"
        },
        {
          "data": {
            "application/vnd.jupyter.widget-view+json": {
              "model_id": "",
              "version_major": 2,
              "version_minor": 0
            },
            "text/plain": [
              "FloatProgress(value=0.0, bar_style='info', description='Progress:', layout=Layout(height='25px', width='50%'),…"
            ]
          },
          "metadata": {},
          "output_type": "display_data"
        },
        {
          "name": "stdout",
          "output_type": "stream",
          "text": [
            "SparkSession available as 'spark'.\n"
          ]
        },
        {
          "data": {
            "application/vnd.jupyter.widget-view+json": {
              "model_id": "",
              "version_major": 2,
              "version_minor": 0
            },
            "text/plain": [
              "FloatProgress(value=0.0, bar_style='info', description='Progress:', layout=Layout(height='25px', width='50%'),…"
            ]
          },
          "metadata": {},
          "output_type": "display_data"
        }
      ],
      "source": [
        "from pyspark.sql import SparkSession, SQLContext\n",
        "from pyspark import SparkConf, SparkContext"
      ]
    },
    {
      "cell_type": "code",
      "execution_count": null,
      "id": "48468b15",
      "metadata": {
        "id": "48468b15",
        "outputId": "287b5d6b-3a48-4705-a152-4afa814f2be7",
        "colab": {
          "referenced_widgets": [
            "04671a692f2e461aa2a506fa5ef69e41",
            ""
          ]
        }
      },
      "outputs": [
        {
          "data": {
            "application/vnd.jupyter.widget-view+json": {
              "model_id": "04671a692f2e461aa2a506fa5ef69e41",
              "version_major": 2,
              "version_minor": 0
            },
            "text/plain": [
              "VBox()"
            ]
          },
          "metadata": {},
          "output_type": "display_data"
        },
        {
          "data": {
            "application/vnd.jupyter.widget-view+json": {
              "model_id": "",
              "version_major": 2,
              "version_minor": 0
            },
            "text/plain": [
              "FloatProgress(value=0.0, bar_style='info', description='Progress:', layout=Layout(height='25px', width='50%'),…"
            ]
          },
          "metadata": {},
          "output_type": "display_data"
        }
      ],
      "source": [
        "conf = SparkConf()\n",
        "conf.set(\"spark.executor.memory\", \"16g\")\n",
        "conf.set(\"spark.driver.memory\", \"16g\")\n",
        "conf.set(\"spark.sql.session.timeZone\",\"UTC\")\n",
        "conf.set(\"spark.driver.maxResultSize\", \"4g\")\n",
        "spark_context = SparkContext.getOrCreate(conf)\n",
        "spark = SparkSession(spark_context)\n",
        "sc = spark.sparkContext\n",
        "sqlContext = SQLContext(sc)"
      ]
    },
    {
      "cell_type": "markdown",
      "id": "45636f6a",
      "metadata": {
        "id": "45636f6a"
      },
      "source": [
        "### To run in EMR"
      ]
    },
    {
      "cell_type": "code",
      "execution_count": null,
      "id": "ff3f6a58",
      "metadata": {
        "id": "ff3f6a58",
        "outputId": "18f3a2a8-e459-4c0b-dbc6-1ac07ba0cb47",
        "colab": {
          "referenced_widgets": [
            "bbecf1b451d840bbb1af4c7e5318a7f6",
            ""
          ]
        }
      },
      "outputs": [
        {
          "data": {
            "application/vnd.jupyter.widget-view+json": {
              "model_id": "bbecf1b451d840bbb1af4c7e5318a7f6",
              "version_major": 2,
              "version_minor": 0
            },
            "text/plain": [
              "VBox()"
            ]
          },
          "metadata": {},
          "output_type": "display_data"
        },
        {
          "data": {
            "application/vnd.jupyter.widget-view+json": {
              "model_id": "",
              "version_major": 2,
              "version_minor": 0
            },
            "text/plain": [
              "FloatProgress(value=0.0, bar_style='info', description='Progress:', layout=Layout(height='25px', width='50%'),…"
            ]
          },
          "metadata": {},
          "output_type": "display_data"
        },
        {
          "name": "stdout",
          "output_type": "stream",
          "text": [
            "Collecting matplotlib\n",
            "  Downloading https://files.pythonhosted.org/packages/24/33/5568d443ba438d95d4db635dd69958056f087e57e1026bee56f959d53f9d/matplotlib-3.4.2-cp37-cp37m-manylinux1_x86_64.whl (10.3MB)\n",
            "Requirement already satisfied: numpy>=1.16 in /usr/local/lib64/python3.7/site-packages (from matplotlib)\n",
            "Collecting pyparsing>=2.2.1 (from matplotlib)\n",
            "  Downloading https://files.pythonhosted.org/packages/8a/bb/488841f56197b13700afd5658fc279a2025a39e22449b7cf29864669b15d/pyparsing-2.4.7-py2.py3-none-any.whl (67kB)\n",
            "Requirement already satisfied: python-dateutil>=2.7 in /usr/local/lib/python3.7/site-packages (from matplotlib)\n",
            "Collecting pillow>=6.2.0 (from matplotlib)\n",
            "  Downloading https://files.pythonhosted.org/packages/8e/7a/b047f6f80fdb02c0cca1d3761d71e9800bcf6d4874b71c9e6548ec59e156/Pillow-8.3.1-cp37-cp37m-manylinux_2_5_x86_64.manylinux1_x86_64.whl (3.0MB)\n",
            "Collecting cycler>=0.10 (from matplotlib)\n",
            "  Downloading https://files.pythonhosted.org/packages/f7/d2/e07d3ebb2bd7af696440ce7e754c59dd546ffe1bbe732c8ab68b9c834e61/cycler-0.10.0-py2.py3-none-any.whl\n",
            "Collecting kiwisolver>=1.0.1 (from matplotlib)\n",
            "  Downloading https://files.pythonhosted.org/packages/d2/46/231de802ade4225b76b96cffe419cf3ce52bbe92e3b092cf12db7d11c207/kiwisolver-1.3.1-cp37-cp37m-manylinux1_x86_64.whl (1.1MB)\n",
            "Requirement already satisfied: six>=1.5 in /usr/local/lib/python3.7/site-packages (from python-dateutil>=2.7->matplotlib)\n",
            "Installing collected packages: pyparsing, pillow, cycler, kiwisolver, matplotlib\n",
            "Successfully installed cycler-0.10.0 kiwisolver-1.3.1 matplotlib-3.4.2 pillow-8.3.1 pyparsing-2.4.7\n",
            "\n",
            "Collecting sklearn\n",
            "  Downloading https://files.pythonhosted.org/packages/1e/7a/dbb3be0ce9bd5c8b7e3d87328e79063f8b263b2b1bfa4774cb1147bfcd3f/sklearn-0.0.tar.gz\n",
            "Collecting scikit-learn (from sklearn)\n",
            "  Downloading https://files.pythonhosted.org/packages/6f/6b/10881b09340d69d4a941e5624bfbf1ba853be8cdf2141077e66dda0b088e/scikit_learn-0.24.2-cp37-cp37m-manylinux1_x86_64.whl (20.0MB)\n",
            "Collecting scipy>=0.19.1 (from scikit-learn->sklearn)\n",
            "  Downloading https://files.pythonhosted.org/packages/b2/85/b00f13b52d079b5625e1a12330fc6453c947a482ff667a907c7bc60ed220/scipy-1.7.0-cp37-cp37m-manylinux_2_5_x86_64.manylinux1_x86_64.whl (28.5MB)\n",
            "Requirement already satisfied: numpy>=1.13.3 in /usr/local/lib64/python3.7/site-packages (from scikit-learn->sklearn)\n",
            "Requirement already satisfied: joblib>=0.11 in /usr/local/lib64/python3.7/site-packages (from scikit-learn->sklearn)\n",
            "Collecting threadpoolctl>=2.0.0 (from scikit-learn->sklearn)\n",
            "  Downloading https://files.pythonhosted.org/packages/c6/e8/c216b9b60cbba4642d3ca1bae7a53daa0c24426f662e0e3ce3dc7f6caeaa/threadpoolctl-2.2.0-py3-none-any.whl\n",
            "Building wheels for collected packages: sklearn\n",
            "  Running setup.py bdist_wheel for sklearn: started\n",
            "  Running setup.py bdist_wheel for sklearn: finished with status 'done'\n",
            "  Stored in directory: /var/lib/livy/.cache/pip/wheels/76/03/bb/589d421d27431bcd2c6da284d5f2286c8e3b2ea3cf1594c074\n",
            "Successfully built sklearn\n",
            "Installing collected packages: scipy, threadpoolctl, scikit-learn, sklearn\n",
            "Successfully installed scikit-learn-0.24.2 scipy-1.7.0 sklearn-0.0 threadpoolctl-2.2.0\n",
            "\n",
            "Collecting pandas==0.25.1\n",
            "  Downloading https://files.pythonhosted.org/packages/7e/ab/ea76361f9d3e732e114adcd801d2820d5319c23d0ac5482fa3b412db217e/pandas-0.25.1-cp37-cp37m-manylinux1_x86_64.whl (10.4MB)\n",
            "Requirement already satisfied: pytz>=2017.2 in /usr/local/lib/python3.7/site-packages (from pandas==0.25.1)\n",
            "Requirement already satisfied: numpy>=1.13.3 in /usr/local/lib64/python3.7/site-packages (from pandas==0.25.1)\n",
            "Requirement already satisfied: python-dateutil>=2.6.1 in /usr/local/lib/python3.7/site-packages (from pandas==0.25.1)\n",
            "Requirement already satisfied: six>=1.5 in /usr/local/lib/python3.7/site-packages (from python-dateutil>=2.6.1->pandas==0.25.1)\n",
            "Installing collected packages: pandas\n",
            "Successfully installed pandas-0.25.1\n",
            "\n",
            "You are using pip version 9.0.1, however version 21.2.1 is available.\n",
            "You should consider upgrading via the 'pip install --upgrade pip' command.\n",
            "\n",
            "You are using pip version 9.0.1, however version 21.2.1 is available.\n",
            "You should consider upgrading via the 'pip install --upgrade pip' command.\n",
            "\n",
            "You are using pip version 9.0.1, however version 21.2.1 is available.\n",
            "You should consider upgrading via the 'pip install --upgrade pip' command."
          ]
        }
      ],
      "source": [
        "sc.install_pypi_package(\"matplotlib\")\n",
        "sc.install_pypi_package(\"sklearn\")\n",
        "sc.install_pypi_package(\"pandas==0.25.1\")"
      ]
    },
    {
      "cell_type": "markdown",
      "id": "a23403a8",
      "metadata": {
        "id": "a23403a8"
      },
      "source": [
        "### To run in EMR and EC2"
      ]
    },
    {
      "cell_type": "code",
      "execution_count": null,
      "id": "94aa56b9",
      "metadata": {
        "id": "94aa56b9",
        "outputId": "2dcb88cb-a991-4423-cd90-4d538bba280e",
        "colab": {
          "referenced_widgets": [
            "a1f1a7e8cb7b4f3cae983aaf2156ef85",
            ""
          ]
        }
      },
      "outputs": [
        {
          "data": {
            "application/vnd.jupyter.widget-view+json": {
              "model_id": "a1f1a7e8cb7b4f3cae983aaf2156ef85",
              "version_major": 2,
              "version_minor": 0
            },
            "text/plain": [
              "VBox()"
            ]
          },
          "metadata": {},
          "output_type": "display_data"
        },
        {
          "data": {
            "application/vnd.jupyter.widget-view+json": {
              "model_id": "",
              "version_major": 2,
              "version_minor": 0
            },
            "text/plain": [
              "FloatProgress(value=0.0, bar_style='info', description='Progress:', layout=Layout(height='25px', width='50%'),…"
            ]
          },
          "metadata": {},
          "output_type": "display_data"
        }
      ],
      "source": [
        "import matplotlib.pyplot as plt\n",
        "import pandas as pd\n",
        "from pyspark.sql.functions import *\n",
        "import time\n",
        "\n",
        "# For feature engineering and data cleanup\n",
        "from pyspark.sql.functions import to_date, dayofweek, hour, col, avg\n",
        "from pyspark.sql.types import StructType, StructField\n",
        "from pyspark.sql.types import DoubleType, IntegerType, StringType, FloatType, ByteType, DateType, TimestampType\n",
        "from pyspark.ml import Pipeline\n",
        "from pyspark.ml.feature import StandardScaler, VectorAssembler\n",
        "\n",
        "# For ML models and predictions\n",
        "from sklearn.metrics import classification_report, confusion_matrix\n",
        "from pyspark.ml.classification import LogisticRegression, RandomForestClassifier, DecisionTreeClassifier\n",
        "from pyspark.ml.evaluation import BinaryClassificationEvaluator\n",
        "from pyspark.mllib.evaluation import MulticlassMetrics\n",
        "from pyspark.mllib.tree import DecisionTree, DecisionTreeModel\n",
        "from pyspark.mllib.util import MLUtils"
      ]
    },
    {
      "cell_type": "markdown",
      "id": "6a78f85a",
      "metadata": {
        "id": "6a78f85a"
      },
      "source": [
        "# Import data"
      ]
    },
    {
      "cell_type": "markdown",
      "id": "59c798f9",
      "metadata": {
        "id": "59c798f9"
      },
      "source": [
        "### To run on EC2 - for testing purposes"
      ]
    },
    {
      "cell_type": "code",
      "execution_count": null,
      "id": "3bc6279d",
      "metadata": {
        "id": "3bc6279d"
      },
      "outputs": [],
      "source": [
        "# Create a small file for learning and building purposes\n",
        "\n",
        "#100k samples\n",
        "# !head -n 100001 \"idc_train.csv\" > \"idc_train_100001.csv\"\n",
        "# training_file =\"idc_train_100001.csv\"\n",
        "# test_file = \"idc_test.csv\""
      ]
    },
    {
      "cell_type": "markdown",
      "id": "4fc1f048",
      "metadata": {
        "id": "4fc1f048"
      },
      "source": [
        "### Full Data Files (EMR and EC2)"
      ]
    },
    {
      "cell_type": "code",
      "execution_count": null,
      "id": "cf76d360",
      "metadata": {
        "id": "cf76d360",
        "outputId": "188a5dad-9c2f-4efe-91ea-043f9b2dd83e",
        "colab": {
          "referenced_widgets": [
            "aca351d1dcdb4f3598d83b41b9aff155",
            ""
          ]
        }
      },
      "outputs": [
        {
          "data": {
            "application/vnd.jupyter.widget-view+json": {
              "model_id": "aca351d1dcdb4f3598d83b41b9aff155",
              "version_major": 2,
              "version_minor": 0
            },
            "text/plain": [
              "VBox()"
            ]
          },
          "metadata": {},
          "output_type": "display_data"
        },
        {
          "data": {
            "application/vnd.jupyter.widget-view+json": {
              "model_id": "",
              "version_major": 2,
              "version_minor": 0
            },
            "text/plain": [
              "FloatProgress(value=0.0, bar_style='info', description='Progress:', layout=Layout(height='25px', width='50%'),…"
            ]
          },
          "metadata": {},
          "output_type": "display_data"
        }
      ],
      "source": [
        "# For EC2\n",
        "# training_file = \"idc_train.csv\" #For full training data\n",
        "# test_file = \"idc_test.csv\"\n",
        "\n",
        "# For EMR\n",
        "training_file = \"/user/hadoop/idc_train.csv\"\n",
        "test_file = \"/user/hadoop/idc_test.csv\""
      ]
    },
    {
      "cell_type": "markdown",
      "id": "e804c6e2",
      "metadata": {
        "id": "e804c6e2"
      },
      "source": [
        "## Load training data"
      ]
    },
    {
      "cell_type": "code",
      "execution_count": null,
      "id": "a01fa197",
      "metadata": {
        "colab": {
          "base_uri": "https://localhost:8080/",
          "referenced_widgets": [
            "01acf1e157a14f58ab23bb53fed4733e",
            ""
          ]
        },
        "id": "a01fa197",
        "outputId": "c68b9512-d932-4466-a395-7ea86559a6ea"
      },
      "outputs": [
        {
          "data": {
            "application/vnd.jupyter.widget-view+json": {
              "model_id": "01acf1e157a14f58ab23bb53fed4733e",
              "version_major": 2,
              "version_minor": 0
            },
            "text/plain": [
              "VBox()"
            ]
          },
          "metadata": {},
          "output_type": "display_data"
        },
        {
          "data": {
            "application/vnd.jupyter.widget-view+json": {
              "model_id": "",
              "version_major": 2,
              "version_minor": 0
            },
            "text/plain": [
              "FloatProgress(value=0.0, bar_style='info', description='Progress:', layout=Layout(height='25px', width='50%'),…"
            ]
          },
          "metadata": {},
          "output_type": "display_data"
        },
        {
          "name": "stdout",
          "output_type": "stream",
          "text": [
            "Running time 1.7621541023254395 s"
          ]
        }
      ],
      "source": [
        "t = time.time()\n",
        "#read a CSV file into a Spark dataframe with an explicit scheme, Create schema and use it to read the file\n",
        "schema = StructType([\n",
        "    StructField(\"key\", IntegerType()),\n",
        "    StructField(\"fare_amount\", FloatType()),\n",
        "    StructField(\"pickup_datetime\", TimestampType()), # Will later extract date and time\n",
        "    StructField(\"pickup_longitude\", FloatType()),\n",
        "    StructField(\"pickup_latitude\", FloatType()),\n",
        "    StructField(\"dropoff_longitude\", FloatType()),\n",
        "    StructField(\"dropoff_latitude\", FloatType()),\n",
        "    StructField(\"passenger_count\", ByteType())\n",
        "])\n",
        "\n",
        "X_train = spark.read.format(\"csv\").option(\"header\", \"true\").schema(schema).option(\"TimeStampFormat\", \"yyyy-mm-dd hh:mm:ss\").load(training_file)\n",
        "print('Running time', time.time() - t , 's' )"
      ]
    },
    {
      "cell_type": "markdown",
      "id": "af82ec8b",
      "metadata": {
        "id": "af82ec8b"
      },
      "source": [
        "## Load Test Data"
      ]
    },
    {
      "cell_type": "code",
      "execution_count": null,
      "id": "fab5b889",
      "metadata": {
        "colab": {
          "base_uri": "https://localhost:8080/",
          "referenced_widgets": [
            "3b65b958e35844f58af7d4847c650793",
            ""
          ]
        },
        "id": "fab5b889",
        "outputId": "211649ea-63eb-43e2-f6aa-80a731362197"
      },
      "outputs": [
        {
          "data": {
            "application/vnd.jupyter.widget-view+json": {
              "model_id": "3b65b958e35844f58af7d4847c650793",
              "version_major": 2,
              "version_minor": 0
            },
            "text/plain": [
              "VBox()"
            ]
          },
          "metadata": {},
          "output_type": "display_data"
        },
        {
          "data": {
            "application/vnd.jupyter.widget-view+json": {
              "model_id": "",
              "version_major": 2,
              "version_minor": 0
            },
            "text/plain": [
              "FloatProgress(value=0.0, bar_style='info', description='Progress:', layout=Layout(height='25px', width='50%'),…"
            ]
          },
          "metadata": {},
          "output_type": "display_data"
        },
        {
          "name": "stdout",
          "output_type": "stream",
          "text": [
            "Running time 0.04953193664550781"
          ]
        }
      ],
      "source": [
        "t = time.time()\n",
        "\n",
        "# Read a CSV file into a Spark dataframe with an explicit schema\n",
        "# Test data does not have fare_amount\n",
        "schema = StructType([\n",
        "    StructField(\"key\", IntegerType()),\n",
        "    StructField(\"pickup_datetime\", TimestampType()), # Will later extract date and time\n",
        "    StructField(\"pickup_longitude\", FloatType()),\n",
        "    StructField(\"pickup_latitude\", FloatType()),\n",
        "    StructField(\"dropoff_longitude\", FloatType()),\n",
        "    StructField(\"dropoff_latitude\", FloatType()),\n",
        "    StructField(\"passenger_count\", ByteType())\n",
        "])\n",
        "\n",
        "X_test = spark.read.format(\"csv\").option(\"header\", \"true\").schema(schema).option(\"TimeStampFormat\", \"yyyy-mm-dd hh:mm:ss\").load(test_file)\n",
        "\n",
        "print('Running time', time.time() - t)"
      ]
    },
    {
      "cell_type": "markdown",
      "id": "3e22ca16",
      "metadata": {
        "id": "3e22ca16"
      },
      "source": [
        "# Preprocess: Workout the Data"
      ]
    },
    {
      "cell_type": "markdown",
      "id": "706fea49",
      "metadata": {
        "id": "706fea49"
      },
      "source": [
        "##  Drop/adjust missing data and inconsistent values:\n",
        "    - Drop duplicates\n",
        "    - Remove rows with erroneous negative fare\n",
        "    - Replace missing/zero values with average of the feature"
      ]
    },
    {
      "cell_type": "code",
      "execution_count": null,
      "id": "db69d96b",
      "metadata": {
        "id": "db69d96b",
        "outputId": "c9859dc8-c4fb-4e0c-b93d-82439ea6ee67",
        "colab": {
          "referenced_widgets": [
            "3203bd3b1b6b4370a6baf8349b1114f3",
            ""
          ]
        }
      },
      "outputs": [
        {
          "data": {
            "application/vnd.jupyter.widget-view+json": {
              "model_id": "3203bd3b1b6b4370a6baf8349b1114f3",
              "version_major": 2,
              "version_minor": 0
            },
            "text/plain": [
              "VBox()"
            ]
          },
          "metadata": {},
          "output_type": "display_data"
        },
        {
          "data": {
            "application/vnd.jupyter.widget-view+json": {
              "model_id": "",
              "version_major": 2,
              "version_minor": 0
            },
            "text/plain": [
              "FloatProgress(value=0.0, bar_style='info', description='Progress:', layout=Layout(height='25px', width='50%'),…"
            ]
          },
          "metadata": {},
          "output_type": "display_data"
        }
      ],
      "source": [
        "def drop_duplicates(X):\n",
        "    processed_X = X.dropDuplicates() #Drop duplicates\n",
        "    return processed_X\n",
        "\n",
        "def filter_positive_fare_amount(X):\n",
        "    processed_X = X.filter(X_train['fare_amount'] > 0) #Remove rows with erroneous negative fare\n",
        "    return processed_X\n",
        "\n",
        "# Imputation - Replace missing/zero values with average of the feature\n",
        "def data_imputation(X):\n",
        "    for i in range(len(X.columns)):\n",
        "        mean = X.agg( avg(col(X.columns[i] )) ).first()[0] #find the mean for the column\n",
        "        # Fill with mean if there is missing value\n",
        "        X = X.na.fill(value=mean,subset=[ X.columns[i] ]) \n",
        "        if X.columns[i] != 'pickup_datetime':\n",
        "            X = X.withColumn(X.columns[i],when( X[i] == 0.0 , mean ).otherwise( X[i] ) )\n",
        "    return X"
      ]
    },
    {
      "cell_type": "markdown",
      "id": "ae6b69f4",
      "metadata": {
        "id": "ae6b69f4"
      },
      "source": [
        "### Pre-process Traning Dataset: drop duplicates, filter erroneous data, data imputaton"
      ]
    },
    {
      "cell_type": "code",
      "execution_count": null,
      "id": "dcac84fd",
      "metadata": {
        "colab": {
          "base_uri": "https://localhost:8080/",
          "referenced_widgets": [
            "aeaead4dfe50423880a4c5427fd4344b",
            ""
          ]
        },
        "id": "dcac84fd",
        "outputId": "2c4e11b4-36f9-4292-9dfb-f4bcdde46a7f"
      },
      "outputs": [
        {
          "data": {
            "application/vnd.jupyter.widget-view+json": {
              "model_id": "aeaead4dfe50423880a4c5427fd4344b",
              "version_major": 2,
              "version_minor": 0
            },
            "text/plain": [
              "VBox()"
            ]
          },
          "metadata": {},
          "output_type": "display_data"
        },
        {
          "data": {
            "application/vnd.jupyter.widget-view+json": {
              "model_id": "",
              "version_major": 2,
              "version_minor": 0
            },
            "text/plain": [
              "FloatProgress(value=0.0, bar_style='info', description='Progress:', layout=Layout(height='25px', width='50%'),…"
            ]
          },
          "metadata": {},
          "output_type": "display_data"
        },
        {
          "name": "stdout",
          "output_type": "stream",
          "text": [
            "Running time 303.7995750904083 s"
          ]
        }
      ],
      "source": [
        "t = time.time()\n",
        "\n",
        "X_train = data_imputation(X_train)\n",
        "X_train = drop_duplicates(X_train)\n",
        "X_train = filter_positive_fare_amount(X_train)\n",
        "\n",
        "print('Running time', time.time() - t, 's' )"
      ]
    },
    {
      "cell_type": "markdown",
      "id": "79c01c49",
      "metadata": {
        "id": "79c01c49"
      },
      "source": [
        "### Add label column (high fare) to training set"
      ]
    },
    {
      "cell_type": "code",
      "execution_count": null,
      "id": "e3216740",
      "metadata": {
        "id": "e3216740",
        "outputId": "1152522b-1f0a-4a34-a4f9-6a7307dc9470",
        "colab": {
          "referenced_widgets": [
            "fd0da87151434f5697c95034cd476aed",
            ""
          ]
        }
      },
      "outputs": [
        {
          "data": {
            "application/vnd.jupyter.widget-view+json": {
              "model_id": "fd0da87151434f5697c95034cd476aed",
              "version_major": 2,
              "version_minor": 0
            },
            "text/plain": [
              "VBox()"
            ]
          },
          "metadata": {},
          "output_type": "display_data"
        },
        {
          "data": {
            "application/vnd.jupyter.widget-view+json": {
              "model_id": "",
              "version_major": 2,
              "version_minor": 0
            },
            "text/plain": [
              "FloatProgress(value=0.0, bar_style='info', description='Progress:', layout=Layout(height='25px', width='50%'),…"
            ]
          },
          "metadata": {},
          "output_type": "display_data"
        }
      ],
      "source": [
        "def add_label_column(X):\n",
        "    engineered_X = X.withColumn(\"high_fare\", (X_train.fare_amount>=10).cast(\"Byte\")) #add high fare\n",
        "    return engineered_X\n",
        "\n",
        "X_train = add_label_column(X_train)"
      ]
    },
    {
      "cell_type": "markdown",
      "id": "8bff6d56",
      "metadata": {
        "id": "8bff6d56"
      },
      "source": [
        "### Pre-process Test Dataset: data imputation"
      ]
    },
    {
      "cell_type": "code",
      "execution_count": null,
      "id": "37c9b061",
      "metadata": {
        "id": "37c9b061",
        "outputId": "dfd1a2d4-5a14-4913-848a-64b74d465012",
        "colab": {
          "referenced_widgets": [
            "1d11715a283c4c5895adb4a4cf96bb55",
            ""
          ]
        }
      },
      "outputs": [
        {
          "data": {
            "application/vnd.jupyter.widget-view+json": {
              "model_id": "1d11715a283c4c5895adb4a4cf96bb55",
              "version_major": 2,
              "version_minor": 0
            },
            "text/plain": [
              "VBox()"
            ]
          },
          "metadata": {},
          "output_type": "display_data"
        },
        {
          "data": {
            "application/vnd.jupyter.widget-view+json": {
              "model_id": "",
              "version_major": 2,
              "version_minor": 0
            },
            "text/plain": [
              "FloatProgress(value=0.0, bar_style='info', description='Progress:', layout=Layout(height='25px', width='50%'),…"
            ]
          },
          "metadata": {},
          "output_type": "display_data"
        }
      ],
      "source": [
        "X_test = data_imputation(X_test)"
      ]
    },
    {
      "cell_type": "markdown",
      "id": "3fddbca5",
      "metadata": {
        "id": "3fddbca5"
      },
      "source": [
        "## Feature engineering: ride_length, features from timestamps"
      ]
    },
    {
      "cell_type": "code",
      "execution_count": null,
      "id": "56ba9454",
      "metadata": {
        "id": "56ba9454",
        "outputId": "bd4665ab-5026-4e4a-a5c4-21e796c15361",
        "colab": {
          "referenced_widgets": [
            "3ff2bd05168a4e599672e168aee0f3a2",
            ""
          ]
        }
      },
      "outputs": [
        {
          "data": {
            "application/vnd.jupyter.widget-view+json": {
              "model_id": "3ff2bd05168a4e599672e168aee0f3a2",
              "version_major": 2,
              "version_minor": 0
            },
            "text/plain": [
              "VBox()"
            ]
          },
          "metadata": {},
          "output_type": "display_data"
        },
        {
          "data": {
            "application/vnd.jupyter.widget-view+json": {
              "model_id": "",
              "version_major": 2,
              "version_minor": 0
            },
            "text/plain": [
              "FloatProgress(value=0.0, bar_style='info', description='Progress:', layout=Layout(height='25px', width='50%'),…"
            ]
          },
          "metadata": {},
          "output_type": "display_data"
        }
      ],
      "source": [
        "# modify pickup time in a way it can be used\n",
        "def add_features_from_timestamps(X):\n",
        "    engineered_X = X.withColumn(\"month\", month(X['pickup_datetime']).cast(\"Integer\"))\n",
        "    engineered_X = engineered_X.withColumn(\"day_in_month\", dayofmonth(engineered_X['pickup_datetime']).cast(\"Integer\"))\n",
        "    engineered_X = engineered_X.withColumn(\"day_in_week\", dayofweek(engineered_X['pickup_datetime']).cast(\"Integer\"))\n",
        "    engineered_X = engineered_X.withColumn(\"hour\", hour(engineered_X['pickup_datetime']).cast(\"Integer\"))\n",
        "    engineered_X = engineered_X.withColumn(\"year\", year(engineered_X['pickup_datetime']).cast(\"Integer\"))\n",
        "    return engineered_X\n",
        "\n",
        "# New column, distance from pickup to dropoff in km\n",
        "def add_eudlidean_distance(X):\n",
        "    R = 6373.0\n",
        "\n",
        "    lat1 = radians(X['pickup_latitude'])\n",
        "    lon1 = radians(X['pickup_longitude'])\n",
        "    lat2 = radians(X['dropoff_latitude'])\n",
        "    lon2 = radians(X['dropoff_longitude'])\n",
        "\n",
        "    dlon = lon2 - lon1\n",
        "    dlat = lat2 - lat1\n",
        "\n",
        "    a = sin(dlat / 2)**2 + cos(lat1) * cos(lat2) * sin(dlon / 2)**2\n",
        "    c = 2 * atan2(sqrt(a), sqrt(1 - a))\n",
        "\n",
        "    distance = R * c\n",
        "    engineered_X = X.withColumn(\"distance_KM\", distance.cast(\"Float\"))\n",
        "    return engineered_X"
      ]
    },
    {
      "cell_type": "markdown",
      "id": "c6d2e569",
      "metadata": {
        "id": "c6d2e569"
      },
      "source": [
        "### Training set: Feature engineering"
      ]
    },
    {
      "cell_type": "code",
      "execution_count": null,
      "id": "6a1b5488",
      "metadata": {
        "colab": {
          "base_uri": "https://localhost:8080/",
          "referenced_widgets": [
            "e053205c9fb6469db907566b90c87819",
            ""
          ]
        },
        "id": "6a1b5488",
        "outputId": "7f95c94d-fee9-4c52-806b-b2268bf33f57"
      },
      "outputs": [
        {
          "data": {
            "application/vnd.jupyter.widget-view+json": {
              "model_id": "e053205c9fb6469db907566b90c87819",
              "version_major": 2,
              "version_minor": 0
            },
            "text/plain": [
              "VBox()"
            ]
          },
          "metadata": {},
          "output_type": "display_data"
        },
        {
          "data": {
            "application/vnd.jupyter.widget-view+json": {
              "model_id": "",
              "version_major": 2,
              "version_minor": 0
            },
            "text/plain": [
              "FloatProgress(value=0.0, bar_style='info', description='Progress:', layout=Layout(height='25px', width='50%'),…"
            ]
          },
          "metadata": {},
          "output_type": "display_data"
        },
        {
          "name": "stdout",
          "output_type": "stream",
          "text": [
            "['key', 'fare_amount', 'pickup_datetime', 'pickup_longitude', 'pickup_latitude', 'dropoff_longitude', 'dropoff_latitude', 'passenger_count', 'high_fare', 'month', 'day_in_month', 'day_in_week', 'hour', 'year', 'distance_KM']\n",
            "Running time 0.16466593742370605 s"
          ]
        }
      ],
      "source": [
        "t = time.time()\n",
        "X_train = add_features_from_timestamps(X_train)\n",
        "X_train = add_eudlidean_distance(X_train)\n",
        "print(X_train.columns)\n",
        "\n",
        "print('Running time', time.time() - t, 's' )"
      ]
    },
    {
      "cell_type": "markdown",
      "id": "0e8073b7",
      "metadata": {
        "id": "0e8073b7"
      },
      "source": [
        "### Test Set: feature engineering"
      ]
    },
    {
      "cell_type": "code",
      "execution_count": null,
      "id": "f7cb5573",
      "metadata": {
        "colab": {
          "base_uri": "https://localhost:8080/",
          "referenced_widgets": [
            "287ecc83f8d2405caf61778ca5fdb886",
            ""
          ]
        },
        "id": "f7cb5573",
        "outputId": "82b23385-868c-4315-e6bf-b034dd879fca"
      },
      "outputs": [
        {
          "data": {
            "application/vnd.jupyter.widget-view+json": {
              "model_id": "287ecc83f8d2405caf61778ca5fdb886",
              "version_major": 2,
              "version_minor": 0
            },
            "text/plain": [
              "VBox()"
            ]
          },
          "metadata": {},
          "output_type": "display_data"
        },
        {
          "data": {
            "application/vnd.jupyter.widget-view+json": {
              "model_id": "",
              "version_major": 2,
              "version_minor": 0
            },
            "text/plain": [
              "FloatProgress(value=0.0, bar_style='info', description='Progress:', layout=Layout(height='25px', width='50%'),…"
            ]
          },
          "metadata": {},
          "output_type": "display_data"
        },
        {
          "name": "stdout",
          "output_type": "stream",
          "text": [
            "Running time 0.13475704193115234 s"
          ]
        }
      ],
      "source": [
        "t = time.time()\n",
        "X_test = add_features_from_timestamps(X_test)\n",
        "X_test = add_eudlidean_distance(X_test)\n",
        "print('Running time', time.time() - t, 's' )"
      ]
    },
    {
      "cell_type": "markdown",
      "id": "b7dfc729",
      "metadata": {
        "id": "b7dfc729"
      },
      "source": [
        "## Filterng and removing outliers"
      ]
    },
    {
      "cell_type": "code",
      "execution_count": null,
      "id": "9d18ed80",
      "metadata": {
        "colab": {
          "base_uri": "https://localhost:8080/",
          "referenced_widgets": [
            "ae79ac206eba4557871d7d861776a293",
            ""
          ]
        },
        "id": "9d18ed80",
        "outputId": "28cf428c-681e-4d1e-de53-3341cf3ed9ed"
      },
      "outputs": [
        {
          "data": {
            "application/vnd.jupyter.widget-view+json": {
              "model_id": "ae79ac206eba4557871d7d861776a293",
              "version_major": 2,
              "version_minor": 0
            },
            "text/plain": [
              "VBox()"
            ]
          },
          "metadata": {},
          "output_type": "display_data"
        },
        {
          "data": {
            "application/vnd.jupyter.widget-view+json": {
              "model_id": "",
              "version_major": 2,
              "version_minor": 0
            },
            "text/plain": [
              "FloatProgress(value=0.0, bar_style='info', description='Progress:', layout=Layout(height='25px', width='50%'),…"
            ]
          },
          "metadata": {},
          "output_type": "display_data"
        },
        {
          "name": "stdout",
          "output_type": "stream",
          "text": [
            "Running time 0.011860132217407227 s"
          ]
        }
      ],
      "source": [
        "t = time.time()\n",
        "\n",
        "#Remove rows with erroneous negative or zero distance. Will only be removed on training data\n",
        "X_train = X_train.filter(X_train['distance_KM'] > 0.0001) \n",
        "print('Running time', time.time() - t, 's' )"
      ]
    },
    {
      "cell_type": "code",
      "execution_count": null,
      "id": "0ee7050f",
      "metadata": {
        "colab": {
          "base_uri": "https://localhost:8080/",
          "referenced_widgets": [
            "9a9a7f6e9e7841ec9d192545086f8f5b",
            ""
          ]
        },
        "id": "0ee7050f",
        "outputId": "68201e7c-20f5-4941-d668-c57873afb59d"
      },
      "outputs": [
        {
          "data": {
            "application/vnd.jupyter.widget-view+json": {
              "model_id": "9a9a7f6e9e7841ec9d192545086f8f5b",
              "version_major": 2,
              "version_minor": 0
            },
            "text/plain": [
              "VBox()"
            ]
          },
          "metadata": {},
          "output_type": "display_data"
        },
        {
          "data": {
            "application/vnd.jupyter.widget-view+json": {
              "model_id": "",
              "version_major": 2,
              "version_minor": 0
            },
            "text/plain": [
              "FloatProgress(value=0.0, bar_style='info', description='Progress:', layout=Layout(height='25px', width='50%'),…"
            ]
          },
          "metadata": {},
          "output_type": "display_data"
        },
        {
          "name": "stdout",
          "output_type": "stream",
          "text": [
            "19777603 15"
          ]
        }
      ],
      "source": [
        "num_rows,num_cols = X_train.count(),len(X_train.columns)\n",
        "print(num_rows,num_cols)"
      ]
    },
    {
      "cell_type": "markdown",
      "id": "5aaa69e2",
      "metadata": {
        "id": "5aaa69e2"
      },
      "source": [
        "## Study distribution for outlier identification"
      ]
    },
    {
      "cell_type": "markdown",
      "id": "cecfd705",
      "metadata": {
        "id": "cecfd705"
      },
      "source": [
        "First, lets plot the longitude and latitude coordinates to see the distribution. then we will manually decide which threshold to apply in order to remove outliers, if any at all.  Note we are already filtering in the plot by setting xlim, ylim and not displaying far away outliers."
      ]
    },
    {
      "cell_type": "code",
      "execution_count": null,
      "id": "f463af34",
      "metadata": {
        "colab": {
          "base_uri": "https://localhost:8080/"
        },
        "id": "f463af34",
        "outputId": "e56b8bd7-a8cc-414d-ec19-f56e421c1f62"
      },
      "outputs": [
        {
          "name": "stdout",
          "output_type": "stream",
          "text": [
            "Running time 8.463862657546997 s\n"
          ]
        }
      ],
      "source": [
        "t = time.time()\n",
        "df = X_train.sample(1.0 * 10100 / num_rows).limit(10000).toPandas() #sample 10k to study training data\n",
        "print('Running time', time.time() - t, 's' )"
      ]
    },
    {
      "cell_type": "code",
      "execution_count": null,
      "id": "0c96f807",
      "metadata": {
        "id": "0c96f807"
      },
      "outputs": [],
      "source": [
        "dft = X_test.toPandas()"
      ]
    },
    {
      "cell_type": "code",
      "execution_count": null,
      "id": "31b7d130",
      "metadata": {
        "colab": {
          "base_uri": "https://localhost:8080/",
          "height": 504
        },
        "id": "31b7d130",
        "outputId": "4f3ce977-5625-427d-8df1-d70ef5702478"
      },
      "outputs": [
        {
          "data": {
            "image/png": "[encoded data removed]",
            "text/plain": [
              "<Figure size 1080x540 with 2 Axes>"
            ]
          },
          "metadata": {
            "needs_background": "light",
            "tags": []
          },
          "output_type": "display_data"
        },
        {
          "name": "stdout",
          "output_type": "stream",
          "text": [
            "Running time 0.5596232414245605 s\n"
          ]
        }
      ],
      "source": [
        "t = time.time()\n",
        "\n",
        "fig,ax = plt.subplots(1, 2, figsize=(15,7.5))\n",
        "\n",
        "#x_min = df.pickup_latitude.min(); x_max = df.pickup_latitude.max()\n",
        "#y_min = df.pickup_longitude.min() ; y_max = df.pickup_longitude.max()\n",
        "ax[0].set_xlim(40,41) \n",
        "ax[0].set_ylim(-74.5,-73) \n",
        "ax[0].scatter(df['pickup_latitude'], df['pickup_longitude'], s=5, alpha=0.8, color='green', label='all crimes')\n",
        "ax[0].set_xlabel('latitude')\n",
        "ax[0].set_ylabel('longitude')\n",
        "ax[0].set_title('pickup map')\n",
        "\n",
        "#x_min = df.dropoff_latitude.min(); x_max = df.dropoff_latitude.max()\n",
        "#y_min = df.dropoff_longitude.min() ; y_max = df.dropoff_longitude.max()\n",
        "ax[1].set_xlim(40, 41) \n",
        "ax[1].set_ylim(-74.5,-73) \n",
        "ax[1].scatter(df['dropoff_latitude'], df['dropoff_longitude'], s=5, alpha=0.8, color='red', label='all crimes')\n",
        "ax[1].set_xlabel('latitude')\n",
        "ax[1].set_ylabel('longitude')\n",
        "ax[1].set_title('dropoff map')\n",
        "plt.show()\n",
        "\n",
        "print('Running time', time.time() - t, 's' )"
      ]
    },
    {
      "cell_type": "markdown",
      "id": "cc4cf952",
      "metadata": {
        "id": "cc4cf952"
      },
      "source": [
        "Lets apply the following thresholds:"
      ]
    },
    {
      "cell_type": "code",
      "execution_count": null,
      "id": "7b600f41",
      "metadata": {
        "colab": {
          "base_uri": "https://localhost:8080/",
          "height": 504
        },
        "id": "7b600f41",
        "outputId": "51451bc0-3c63-412f-d3a8-6d1e2b04d21d"
      },
      "outputs": [
        {
          "data": {
            "image/png": "[encoded data removed]",
            "text/plain": [
              "<Figure size 1080x540 with 2 Axes>"
            ]
          },
          "metadata": {
            "needs_background": "light",
            "tags": []
          },
          "output_type": "display_data"
        },
        {
          "name": "stdout",
          "output_type": "stream",
          "text": [
            "Running time 0.4377877712249756 s\n"
          ]
        }
      ],
      "source": [
        "t = time.time()\n",
        "\n",
        "fig,ax= plt.subplots(1, 2, figsize=(15,7.5))\n",
        "\n",
        "#pickup\n",
        "ax[0].set_xlim(40,41) \n",
        "ax[0].set_ylim(-74.5,-73) \n",
        "\n",
        "ax[0].scatter(df['pickup_latitude'], df['pickup_longitude'], s=5, alpha=0.8, color='green', label='all crimes')\n",
        "ax[0].set_xlabel('latitude')\n",
        "ax[0].set_ylabel('longitude')\n",
        "ax[0].set_title('pickup map - thresholds')\n",
        "\n",
        "ax[0].hlines(y = [-73.75,-74.09], xmin = [40.58,40.58], xmax=[40.91,40.91],color = 'blue')\n",
        "ax[0].vlines(x = [40.58,40.91], ymin = [-74.09,-74.09], ymax=[-73.75,-73.75],color = 'blue')\n",
        "\n",
        "#dropoff\n",
        "ax[1].set_xlim(40, 41) \n",
        "ax[1].set_ylim(-74.5,-73) \n",
        "ax[1].scatter(df['dropoff_latitude'], df['dropoff_longitude'], s=5, alpha=0.8, color='red', label='all crimes')\n",
        "ax[1].set_xlabel('latitude')\n",
        "ax[1].set_ylabel('longitude')\n",
        "ax[1].set_title('dropoff map - thresholds')\n",
        "ax[1].hlines(y = [-73.7,-74.09], xmin = [40.55,40.55], xmax=[40.94,40.94],color = 'blue')\n",
        "ax[1].vlines(x = [40.55,40.94], ymin = [-74.09,-74.09], ymax=[-73.7,-73.7],color = 'blue')\n",
        "\n",
        "plt.show()\n",
        "\n",
        "print('Running time', time.time() - t, 's' )"
      ]
    },
    {
      "cell_type": "markdown",
      "id": "5f019e98",
      "metadata": {
        "id": "5f019e98"
      },
      "source": [
        "Now finally lets check the distance distribution and the threshold we decided to put. Note we are already filtering in the plot by setting ylim and not displaying far away outliers."
      ]
    },
    {
      "cell_type": "code",
      "execution_count": null,
      "id": "de842905",
      "metadata": {
        "colab": {
          "base_uri": "https://localhost:8080/",
          "height": 485
        },
        "id": "de842905",
        "outputId": "bf1ecf9e-041c-4c55-e0d5-75882959fa56"
      },
      "outputs": [
        {
          "data": {
            "image/png": "[encoded data removed]",
            "text/plain": [
              "<Figure size 864x504 with 1 Axes>"
            ]
          },
          "metadata": {
            "needs_background": "light",
            "tags": []
          },
          "output_type": "display_data"
        },
        {
          "name": "stdout",
          "output_type": "stream",
          "text": [
            "Running time 0.37041544914245605 s\n"
          ]
        }
      ],
      "source": [
        "t = time.time()\n",
        "\n",
        "df.plot(kind = 'scatter',x= 'fare_amount',y = 'distance_KM',marker = 'o',alpha=0.4,color='violet',figsize=(12,7))\n",
        "plt.ylim(0,200) \n",
        "plt.xlim(0,200) \n",
        "plt.title('Ride fairs VS Ride_length',fontsize = 17)\n",
        "plt.xlabel('Ride fairs',fontsize = 15)\n",
        "plt.ylabel('Ride_length',fontsize = 15)\n",
        "plt.hlines(y = [0,40], xmin = [0,0], xmax=[80,80],color = 'blue')\n",
        "plt.vlines(x = [0,80], ymin = [0,0], ymax=[40,40],color = 'blue')\n",
        "plt.show()\n",
        "\n",
        "print('Running time', time.time() - t, 's' )"
      ]
    },
    {
      "cell_type": "markdown",
      "id": "85e297eb",
      "metadata": {
        "id": "85e297eb"
      },
      "source": [
        "### Remove outliers from training dataset"
      ]
    },
    {
      "cell_type": "code",
      "execution_count": null,
      "id": "0bcdcfa4",
      "metadata": {
        "id": "0bcdcfa4",
        "outputId": "c47a135f-2cd1-4b38-8056-37cb51237f3d",
        "colab": {
          "referenced_widgets": [
            "69614b54940e405e9788492c2fc346fe",
            ""
          ]
        }
      },
      "outputs": [
        {
          "data": {
            "application/vnd.jupyter.widget-view+json": {
              "model_id": "69614b54940e405e9788492c2fc346fe",
              "version_major": 2,
              "version_minor": 0
            },
            "text/plain": [
              "VBox()"
            ]
          },
          "metadata": {},
          "output_type": "display_data"
        },
        {
          "data": {
            "application/vnd.jupyter.widget-view+json": {
              "model_id": "",
              "version_major": 2,
              "version_minor": 0
            },
            "text/plain": [
              "FloatProgress(value=0.0, bar_style='info', description='Progress:', layout=Layout(height='25px', width='50%'),…"
            ]
          },
          "metadata": {},
          "output_type": "display_data"
        }
      ],
      "source": [
        "# #pickup thresholding\n",
        "X_train = X_train.filter((X_train['pickup_longitude'] >= -74.09) &(X_train['pickup_longitude'] <= -73.75))\n",
        "X_train = X_train.filter( (X_train['pickup_latitude'] >= 40.58) & (X_train['pickup_latitude'] <= 40.91))\n",
        "\n",
        "#dropoff thresholding\n",
        "X_train = X_train.filter( (X_train['dropoff_longitude'] >= -74.09) &(X_train['pickup_longitude'] <= -73.7))\n",
        "X_train = X_train.filter( (X_train['dropoff_latitude'] >= 40.55) & (X_train['dropoff_latitude'] <= 40.94))\n",
        "\n",
        "#distance in km thresholding\n",
        "X_train = X_train.filter(X_train['distance_KM'] <= 40)\n",
        "X_train = X_train.filter(X_train['fare_amount'] <= 80)"
      ]
    },
    {
      "cell_type": "markdown",
      "id": "37340738",
      "metadata": {
        "id": "37340738"
      },
      "source": [
        "## Build Feature Vectors and Normalize"
      ]
    },
    {
      "cell_type": "code",
      "execution_count": null,
      "id": "4f099963",
      "metadata": {
        "id": "4f099963",
        "outputId": "d00461b0-d6dd-47fd-87de-989237bfdc9b",
        "colab": {
          "referenced_widgets": [
            "57c8074182584d9692ace576c8801cee",
            ""
          ]
        }
      },
      "outputs": [
        {
          "data": {
            "application/vnd.jupyter.widget-view+json": {
              "model_id": "57c8074182584d9692ace576c8801cee",
              "version_major": 2,
              "version_minor": 0
            },
            "text/plain": [
              "VBox()"
            ]
          },
          "metadata": {},
          "output_type": "display_data"
        },
        {
          "data": {
            "application/vnd.jupyter.widget-view+json": {
              "model_id": "",
              "version_major": 2,
              "version_minor": 0
            },
            "text/plain": [
              "FloatProgress(value=0.0, bar_style='info', description='Progress:', layout=Layout(height='25px', width='50%'),…"
            ]
          },
          "metadata": {},
          "output_type": "display_data"
        }
      ],
      "source": [
        "#Transform features into a vector using VectorAssembler. Not using target, nor transformed features such as \"key\", \"pickup_datetime\" \n",
        "\n",
        "assembler = VectorAssembler()\\\n",
        "        .setInputCols([\"pickup_longitude\",\"pickup_latitude\",\"dropoff_longitude\",\"dropoff_latitude\",\"passenger_count\",\\\n",
        "                      \"month\",\"day_in_month\",\"day_in_week\",\"hour\",\"year\",\"distance_KM\"])\\\n",
        "        .setOutputCol(\"vectorized_features\")\n"
      ]
    },
    {
      "cell_type": "code",
      "execution_count": null,
      "id": "f6e51d08",
      "metadata": {
        "id": "f6e51d08",
        "outputId": "40a76f0c-4629-4210-ab92-e2fc4920c958",
        "colab": {
          "referenced_widgets": [
            "3437fa0bc1424e20b229b6aaa77de1c6",
            ""
          ]
        }
      },
      "outputs": [
        {
          "data": {
            "application/vnd.jupyter.widget-view+json": {
              "model_id": "3437fa0bc1424e20b229b6aaa77de1c6",
              "version_major": 2,
              "version_minor": 0
            },
            "text/plain": [
              "VBox()"
            ]
          },
          "metadata": {},
          "output_type": "display_data"
        },
        {
          "data": {
            "application/vnd.jupyter.widget-view+json": {
              "model_id": "",
              "version_major": 2,
              "version_minor": 0
            },
            "text/plain": [
              "FloatProgress(value=0.0, bar_style='info', description='Progress:', layout=Layout(height='25px', width='50%'),…"
            ]
          },
          "metadata": {},
          "output_type": "display_data"
        }
      ],
      "source": [
        "# Standarize features with StandardScaler\n",
        "scaler = StandardScaler(withMean=True, withStd=True)\\\n",
        "        .setInputCol(\"vectorized_features\")\\\n",
        "        .setOutputCol(\"normalized_features\")"
      ]
    },
    {
      "cell_type": "markdown",
      "id": "96b279c3",
      "metadata": {
        "id": "96b279c3"
      },
      "source": [
        "### Execute pipeline for Training Data"
      ]
    },
    {
      "cell_type": "code",
      "execution_count": null,
      "id": "c9fd791c",
      "metadata": {
        "colab": {
          "base_uri": "https://localhost:8080/",
          "referenced_widgets": [
            "97e255068b8647199caf11e0f548f5c3",
            ""
          ]
        },
        "id": "c9fd791c",
        "outputId": "2984b770-b25a-4296-b6c7-7e04f65996da"
      },
      "outputs": [
        {
          "data": {
            "application/vnd.jupyter.widget-view+json": {
              "model_id": "97e255068b8647199caf11e0f548f5c3",
              "version_major": 2,
              "version_minor": 0
            },
            "text/plain": [
              "VBox()"
            ]
          },
          "metadata": {},
          "output_type": "display_data"
        },
        {
          "data": {
            "application/vnd.jupyter.widget-view+json": {
              "model_id": "",
              "version_major": 2,
              "version_minor": 0
            },
            "text/plain": [
              "FloatProgress(value=0.0, bar_style='info', description='Progress:', layout=Layout(height='25px', width='50%'),…"
            ]
          },
          "metadata": {},
          "output_type": "display_data"
        },
        {
          "name": "stdout",
          "output_type": "stream",
          "text": [
            "Running time 403.88587737083435 s"
          ]
        }
      ],
      "source": [
        "t = time.time()\n",
        "\n",
        "assembler_df_train = assembler.transform(X_train)\n",
        "scaler_model = scaler.fit(assembler_df_train)\n",
        "training_scaler_df = scaler_model.transform(assembler_df_train)\n",
        "\n",
        "print('Running time', time.time() - t, 's' )"
      ]
    },
    {
      "cell_type": "markdown",
      "id": "afa6e436",
      "metadata": {
        "id": "afa6e436"
      },
      "source": [
        "### Execute pipeline for Test Data"
      ]
    },
    {
      "cell_type": "code",
      "execution_count": null,
      "id": "d6e3b341",
      "metadata": {
        "id": "d6e3b341",
        "outputId": "910c9602-0636-49d1-e903-3d9cdaf4b95a",
        "colab": {
          "referenced_widgets": [
            "8e2b517651634bdfa202f6274fcfb6bb",
            ""
          ]
        }
      },
      "outputs": [
        {
          "data": {
            "application/vnd.jupyter.widget-view+json": {
              "model_id": "8e2b517651634bdfa202f6274fcfb6bb",
              "version_major": 2,
              "version_minor": 0
            },
            "text/plain": [
              "VBox()"
            ]
          },
          "metadata": {},
          "output_type": "display_data"
        },
        {
          "data": {
            "application/vnd.jupyter.widget-view+json": {
              "model_id": "",
              "version_major": 2,
              "version_minor": 0
            },
            "text/plain": [
              "FloatProgress(value=0.0, bar_style='info', description='Progress:', layout=Layout(height='25px', width='50%'),…"
            ]
          },
          "metadata": {},
          "output_type": "display_data"
        }
      ],
      "source": [
        "assembler_df_test = assembler.transform(X_test)\n",
        "testing_scaler_df = scaler_model.transform(assembler_df_test)"
      ]
    },
    {
      "cell_type": "markdown",
      "id": "b21907d1",
      "metadata": {
        "id": "b21907d1"
      },
      "source": [
        "# Plot information from data\n",
        "Create the following plots (with a sample of 10,000):\n",
        "1) Distribution of ride fairs.\n",
        "2) Ride fare vs. ride length.\n",
        "3) Average ride length per pick up time hour of the day (x-axis = 24 hours)."
      ]
    },
    {
      "cell_type": "code",
      "execution_count": null,
      "id": "8ced2ca0",
      "metadata": {
        "id": "8ced2ca0"
      },
      "outputs": [],
      "source": [
        "df = X_train.sample(1.0*10100/num_rows).limit(10000).toPandas()"
      ]
    },
    {
      "cell_type": "code",
      "execution_count": null,
      "id": "3a1f55db",
      "metadata": {
        "colab": {
          "base_uri": "https://localhost:8080/",
          "height": 1000
        },
        "id": "3a1f55db",
        "outputId": "364835ee-5501-45ef-c326-f536e1c9161c"
      },
      "outputs": [
        {
          "data": {
            "image/png": "[encoded data removed]",
            "text/plain": [
              "<Figure size 864x504 with 1 Axes>"
            ]
          },
          "metadata": {
            "needs_background": "light",
            "tags": []
          },
          "output_type": "display_data"
        },
        {
          "name": "stdout",
          "output_type": "stream",
          "text": [
            "\n",
            "\n"
          ]
        },
        {
          "data": {
            "image/png": "[encoded data removed]",
            "text/plain": [
              "<Figure size 864x504 with 1 Axes>"
            ]
          },
          "metadata": {
            "needs_background": "light",
            "tags": []
          },
          "output_type": "display_data"
        },
        {
          "name": "stdout",
          "output_type": "stream",
          "text": [
            "\n",
            "\n"
          ]
        },
        {
          "data": {
            "image/png": "[encoded data removed]",
            "text/plain": [
              "<Figure size 864x504 with 1 Axes>"
            ]
          },
          "metadata": {
            "needs_background": "light",
            "tags": []
          },
          "output_type": "display_data"
        }
      ],
      "source": [
        "# Distribution of ride fairs:\n",
        "df.fare_amount.hist(bins = 90,edgecolor= 'black',color='tomato',figsize=(12,7))\n",
        "plt.title('Distribution of ride fairs',fontsize = 17)\n",
        "plt.xlabel('Ride fairs',fontsize = 13)\n",
        "plt.ylabel('count',fontsize = 13)\n",
        "plt.show()\n",
        "print('\\n')\n",
        "\n",
        "#Ride fairs VS Ride_length:\n",
        "df.plot(kind = 'scatter',x= 'fare_amount',y = 'distance_KM',marker = 'o',alpha=0.4,color='violet',figsize=(12,7))\n",
        "plt.title('Ride fairs VS Ride_length',fontsize = 17)\n",
        "plt.xlabel('Ride fairs',fontsize = 15)\n",
        "plt.ylabel('Ride_length',fontsize = 15)\n",
        "plt.show()\n",
        "print('\\n')\n",
        "\n",
        "# Avg ride length per pickup time\n",
        "df.groupby(['hour'])['distance_KM'].mean().plot.bar(color='goldenrod',figsize=(12,7))\n",
        "plt.title('Average ride length per pick up time hour of the day',fontsize = 17)\n",
        "plt.xlabel('Pickup time [Hour]',fontsize = 15)\n",
        "plt.ylabel('Average ride length [KM]',fontsize = 15)\n",
        "plt.show()"
      ]
    },
    {
      "cell_type": "markdown",
      "id": "2fcbabd7",
      "metadata": {
        "id": "2fcbabd7"
      },
      "source": [
        "# MLib Model training - EMR 1 Worker"
      ]
    },
    {
      "cell_type": "markdown",
      "id": "46619f4b",
      "metadata": {
        "id": "46619f4b"
      },
      "source": [
        "## Split Training to Train and Validation Set"
      ]
    },
    {
      "cell_type": "code",
      "execution_count": null,
      "id": "b154adc5",
      "metadata": {
        "colab": {
          "base_uri": "https://localhost:8080/",
          "referenced_widgets": [
            "b1e7c865af7d4e599e6fa318160d0de6",
            ""
          ]
        },
        "id": "b154adc5",
        "outputId": "a8a14ab9-7ce6-4ea4-d51d-efffeaab58f8"
      },
      "outputs": [
        {
          "data": {
            "application/vnd.jupyter.widget-view+json": {
              "model_id": "b1e7c865af7d4e599e6fa318160d0de6",
              "version_major": 2,
              "version_minor": 0
            },
            "text/plain": [
              "VBox()"
            ]
          },
          "metadata": {},
          "output_type": "display_data"
        },
        {
          "data": {
            "application/vnd.jupyter.widget-view+json": {
              "model_id": "",
              "version_major": 2,
              "version_minor": 0
            },
            "text/plain": [
              "FloatProgress(value=0.0, bar_style='info', description='Progress:', layout=Layout(height='25px', width='50%'),…"
            ]
          },
          "metadata": {},
          "output_type": "display_data"
        },
        {
          "name": "stdout",
          "output_type": "stream",
          "text": [
            "Running time 0.041779518127441406 s"
          ]
        }
      ],
      "source": [
        "t = time.time()\n",
        "X_training, X_validation = training_scaler_df.randomSplit([0.8, 0.2], seed = 2021 )\n",
        "print('Running time', time.time() - t, 's' )"
      ]
    },
    {
      "cell_type": "markdown",
      "id": "800bae6c",
      "metadata": {
        "id": "800bae6c"
      },
      "source": [
        "## Logistic Regression"
      ]
    },
    {
      "cell_type": "markdown",
      "id": "107bba17",
      "metadata": {
        "id": "107bba17"
      },
      "source": [
        "#### Model Training and Validation"
      ]
    },
    {
      "cell_type": "code",
      "execution_count": null,
      "id": "ca763a7e",
      "metadata": {
        "colab": {
          "base_uri": "https://localhost:8080/",
          "referenced_widgets": [
            "f89f8738d2194823905bdacfc7396a29",
            ""
          ]
        },
        "id": "ca763a7e",
        "outputId": "ff2ce999-df2d-49a3-c310-2319a37291d7"
      },
      "outputs": [
        {
          "data": {
            "application/vnd.jupyter.widget-view+json": {
              "model_id": "f89f8738d2194823905bdacfc7396a29",
              "version_major": 2,
              "version_minor": 0
            },
            "text/plain": [
              "VBox()"
            ]
          },
          "metadata": {},
          "output_type": "display_data"
        },
        {
          "data": {
            "application/vnd.jupyter.widget-view+json": {
              "model_id": "",
              "version_major": 2,
              "version_minor": 0
            },
            "text/plain": [
              "FloatProgress(value=0.0, bar_style='info', description='Progress:', layout=Layout(height='25px', width='50%'),…"
            ]
          },
          "metadata": {},
          "output_type": "display_data"
        },
        {
          "name": "stdout",
          "output_type": "stream",
          "text": [
            "Running time 507.1649284362793 s"
          ]
        }
      ],
      "source": [
        "t = time.time()\n",
        "\n",
        "# Logistic Regression\n",
        "lr = LogisticRegression( featuresCol = 'normalized_features', labelCol = 'high_fare', maxIter=15, regParam=0.01, elasticNetParam=0.8 )\n",
        "lrModel = lr.fit(X_training)\n",
        "lr_validation_predictions = lrModel.transform(X_validation)\n",
        "\n",
        "print('Running time', time.time() - t, 's' )"
      ]
    },
    {
      "cell_type": "markdown",
      "id": "63b7f14b",
      "metadata": {
        "id": "63b7f14b"
      },
      "source": [
        "#### Logistic Regression: Model evaluation - Area Under ROC"
      ]
    },
    {
      "cell_type": "code",
      "execution_count": null,
      "id": "b5b17c08",
      "metadata": {
        "colab": {
          "base_uri": "https://localhost:8080/",
          "height": 348,
          "referenced_widgets": [
            "6f63c99ba60748c59d9cd467ed2326b2",
            ""
          ]
        },
        "id": "b5b17c08",
        "outputId": "49e860ae-d864-4478-a5e8-d416abcb90d2"
      },
      "outputs": [
        {
          "data": {
            "application/vnd.jupyter.widget-view+json": {
              "model_id": "6f63c99ba60748c59d9cd467ed2326b2",
              "version_major": 2,
              "version_minor": 0
            },
            "text/plain": [
              "VBox()"
            ]
          },
          "metadata": {},
          "output_type": "display_data"
        },
        {
          "data": {
            "application/vnd.jupyter.widget-view+json": {
              "model_id": "",
              "version_major": 2,
              "version_minor": 0
            },
            "text/plain": [
              "FloatProgress(value=0.0, bar_style='info', description='Progress:', layout=Layout(height='25px', width='50%'),…"
            ]
          },
          "metadata": {},
          "output_type": "display_data"
        },
        {
          "name": "stdout",
          "output_type": "stream",
          "text": [
            "X_validation AUC:  0.9360665169748249\n",
            "Running time 458.3318405151367 s"
          ]
        }
      ],
      "source": [
        "t = time.time()\n",
        "\n",
        "#Area Under ROC\n",
        "\n",
        "evaluator = BinaryClassificationEvaluator(labelCol='high_fare', metricName='areaUnderROC')\n",
        "print('X_validation AUC: ',evaluator.evaluate(lr_validation_predictions))\n",
        "\n",
        "print('Running time', time.time() - t, 's' )"
      ]
    },
    {
      "cell_type": "markdown",
      "id": "64d26ca3",
      "metadata": {
        "id": "64d26ca3"
      },
      "source": [
        "#### Logistic regression Results: Confusion matrix"
      ]
    },
    {
      "cell_type": "code",
      "execution_count": null,
      "id": "49ea53a9",
      "metadata": {
        "colab": {
          "base_uri": "https://localhost:8080/",
          "referenced_widgets": [
            "fe65c460940c431bbb283d8e2412b1f6",
            ""
          ]
        },
        "id": "49ea53a9",
        "outputId": "7ad8aba1-e1ed-4135-adf9-332553ba7403"
      },
      "outputs": [
        {
          "data": {
            "application/vnd.jupyter.widget-view+json": {
              "model_id": "fe65c460940c431bbb283d8e2412b1f6",
              "version_major": 2,
              "version_minor": 0
            },
            "text/plain": [
              "VBox()"
            ]
          },
          "metadata": {},
          "output_type": "display_data"
        },
        {
          "data": {
            "application/vnd.jupyter.widget-view+json": {
              "model_id": "",
              "version_major": 2,
              "version_minor": 0
            },
            "text/plain": [
              "FloatProgress(value=0.0, bar_style='info', description='Progress:', layout=Layout(height='25px', width='50%'),…"
            ]
          },
          "metadata": {},
          "output_type": "display_data"
        },
        {
          "name": "stdout",
          "output_type": "stream",
          "text": [
            "[[2245929.  110647.]\n",
            " [ 373192. 1130151.]]\n",
            "Running time 554.199414730072 s"
          ]
        }
      ],
      "source": [
        "t = time.time()\n",
        "#important: need to cast to float type, and order by prediction, else it won't work\n",
        "preds_and_labels = lr_validation_predictions.select(['prediction','high_fare']).withColumn('label', col('high_fare').cast(FloatType())).orderBy('prediction')\n",
        "\n",
        "#select only prediction and label columns\n",
        "preds_and_labels = preds_and_labels.select(['prediction','label'])\n",
        "metrics = MulticlassMetrics(preds_and_labels.rdd.map(tuple))\n",
        "print(metrics.confusionMatrix().toArray())\n",
        "print('Running time', time.time() - t, 's' )"
      ]
    },
    {
      "cell_type": "markdown",
      "id": "e0d4b049",
      "metadata": {
        "id": "e0d4b049"
      },
      "source": [
        "## Decision Tree"
      ]
    },
    {
      "cell_type": "markdown",
      "id": "3886a9ac",
      "metadata": {
        "id": "3886a9ac"
      },
      "source": [
        "#### Mode training and Validation"
      ]
    },
    {
      "cell_type": "code",
      "execution_count": null,
      "id": "020db55f",
      "metadata": {
        "colab": {
          "base_uri": "https://localhost:8080/",
          "referenced_widgets": [
            "162bc847a8a649c8938887ec6ef7018e",
            ""
          ]
        },
        "id": "020db55f",
        "outputId": "be46889c-a10d-4930-9525-434d555c65b9"
      },
      "outputs": [
        {
          "data": {
            "application/vnd.jupyter.widget-view+json": {
              "model_id": "162bc847a8a649c8938887ec6ef7018e",
              "version_major": 2,
              "version_minor": 0
            },
            "text/plain": [
              "VBox()"
            ]
          },
          "metadata": {},
          "output_type": "display_data"
        },
        {
          "data": {
            "application/vnd.jupyter.widget-view+json": {
              "model_id": "",
              "version_major": 2,
              "version_minor": 0
            },
            "text/plain": [
              "FloatProgress(value=0.0, bar_style='info', description='Progress:', layout=Layout(height='25px', width='50%'),…"
            ]
          },
          "metadata": {},
          "output_type": "display_data"
        },
        {
          "name": "stdout",
          "output_type": "stream",
          "text": [
            "Running time 985.3168013095856 s"
          ]
        }
      ],
      "source": [
        "t = time.time()\n",
        "\n",
        "decision_tree = DecisionTreeClassifier(labelCol=\"high_fare\", featuresCol=\"normalized_features\", maxDepth=5, maxBins=20, minInstancesPerNode=2, minInfoGain=0.1)  \n",
        "dtModel = decision_tree.fit(X_training)\n",
        "dt_validation_predictions = dtModel.transform(X_validation)\n",
        "\n",
        "print('Running time', time.time() - t, 's' )"
      ]
    },
    {
      "cell_type": "markdown",
      "id": "1b4843dd",
      "metadata": {
        "id": "1b4843dd"
      },
      "source": [
        "#### Decision Tree: model evaluation - Area Under ROC"
      ]
    },
    {
      "cell_type": "code",
      "execution_count": null,
      "id": "8666bdfb",
      "metadata": {
        "colab": {
          "base_uri": "https://localhost:8080/",
          "referenced_widgets": [
            "e8e936375d9c4bb99e8c4764c27b2da8",
            ""
          ]
        },
        "id": "8666bdfb",
        "outputId": "d355f749-909f-4035-a3a3-2cb8effe69f9"
      },
      "outputs": [
        {
          "data": {
            "application/vnd.jupyter.widget-view+json": {
              "model_id": "e8e936375d9c4bb99e8c4764c27b2da8",
              "version_major": 2,
              "version_minor": 0
            },
            "text/plain": [
              "VBox()"
            ]
          },
          "metadata": {},
          "output_type": "display_data"
        },
        {
          "data": {
            "application/vnd.jupyter.widget-view+json": {
              "model_id": "",
              "version_major": 2,
              "version_minor": 0
            },
            "text/plain": [
              "FloatProgress(value=0.0, bar_style='info', description='Progress:', layout=Layout(height='25px', width='50%'),…"
            ]
          },
          "metadata": {},
          "output_type": "display_data"
        },
        {
          "name": "stdout",
          "output_type": "stream",
          "text": [
            "X_validation AUC:  0.8473643836922042\n",
            "Running time 459.36165738105774 s"
          ]
        }
      ],
      "source": [
        "t = time.time()\n",
        "\n",
        "evaluator = BinaryClassificationEvaluator(labelCol='high_fare', metricName='areaUnderROC')\n",
        "print('X_validation AUC: ',evaluator.evaluate(dt_validation_predictions))\n",
        "\n",
        "print('Running time', time.time() - t, 's' )"
      ]
    },
    {
      "cell_type": "markdown",
      "id": "48102f17",
      "metadata": {
        "id": "48102f17"
      },
      "source": [
        "#### Decision Tree Results: Confusion Matrix "
      ]
    },
    {
      "cell_type": "code",
      "execution_count": null,
      "id": "5a75db19",
      "metadata": {
        "colab": {
          "base_uri": "https://localhost:8080/",
          "referenced_widgets": [
            "13d350ac7ec9426fadba9814084fd1c1",
            ""
          ]
        },
        "id": "5a75db19",
        "outputId": "9ff648fe-0575-4d62-e4e4-6b2d9ff0e27b"
      },
      "outputs": [
        {
          "data": {
            "application/vnd.jupyter.widget-view+json": {
              "model_id": "13d350ac7ec9426fadba9814084fd1c1",
              "version_major": 2,
              "version_minor": 0
            },
            "text/plain": [
              "VBox()"
            ]
          },
          "metadata": {},
          "output_type": "display_data"
        },
        {
          "data": {
            "application/vnd.jupyter.widget-view+json": {
              "model_id": "",
              "version_major": 2,
              "version_minor": 0
            },
            "text/plain": [
              "FloatProgress(value=0.0, bar_style='info', description='Progress:', layout=Layout(height='25px', width='50%'),…"
            ]
          },
          "metadata": {},
          "output_type": "display_data"
        },
        {
          "name": "stdout",
          "output_type": "stream",
          "text": [
            "[[2193135.  163441.]\n",
            " [ 355296. 1148047.]]\n",
            "Running time 535.5023295879364 s"
          ]
        }
      ],
      "source": [
        "t = time.time()\n",
        "#important: need to cast to float type, and order by prediction, else it won't work\n",
        "preds_and_labels = dt_validation_predictions.select(['prediction','high_fare']).withColumn('label', col('high_fare').cast(FloatType())).orderBy('prediction')\n",
        "\n",
        "#select only prediction and label columns\n",
        "preds_and_labels = preds_and_labels.select(['prediction','label'])\n",
        "metrics = MulticlassMetrics(preds_and_labels.rdd.map(tuple))\n",
        "print(metrics.confusionMatrix().toArray())\n",
        "print('Running time', time.time() - t, 's' )"
      ]
    },
    {
      "cell_type": "markdown",
      "id": "276f1c0e",
      "metadata": {
        "id": "276f1c0e"
      },
      "source": [
        "## Random Forest"
      ]
    },
    {
      "cell_type": "markdown",
      "id": "46de5a45",
      "metadata": {
        "id": "46de5a45"
      },
      "source": [
        "#### Model training and Validation"
      ]
    },
    {
      "cell_type": "code",
      "execution_count": null,
      "id": "dbba14d7",
      "metadata": {
        "colab": {
          "base_uri": "https://localhost:8080/",
          "referenced_widgets": [
            "06e135c400a948879eee0a03b1e81b3a",
            ""
          ]
        },
        "id": "dbba14d7",
        "outputId": "e1d33f01-8fd2-4f99-f450-230ae6ae1b2c",
        "tags": []
      },
      "outputs": [
        {
          "data": {
            "application/vnd.jupyter.widget-view+json": {
              "model_id": "06e135c400a948879eee0a03b1e81b3a",
              "version_major": 2,
              "version_minor": 0
            },
            "text/plain": [
              "VBox()"
            ]
          },
          "metadata": {},
          "output_type": "display_data"
        },
        {
          "data": {
            "application/vnd.jupyter.widget-view+json": {
              "model_id": "",
              "version_major": 2,
              "version_minor": 0
            },
            "text/plain": [
              "FloatProgress(value=0.0, bar_style='info', description='Progress:', layout=Layout(height='25px', width='50%'),…"
            ]
          },
          "metadata": {},
          "output_type": "display_data"
        },
        {
          "name": "stdout",
          "output_type": "stream",
          "text": [
            "Running time 1830.7594711780548 s"
          ]
        }
      ],
      "source": [
        "t = time.time()\n",
        "\n",
        "random_forest = RandomForestClassifier(labelCol=\"high_fare\", featuresCol=\"normalized_features\", numTrees=25, maxDepth=10)  \n",
        "\n",
        "rf_model = random_forest.fit(X_training)\n",
        "rf_validation_predictions = rf_model.transform(X_validation)\n",
        "\n",
        "print('Running time', time.time() - t, 's' )"
      ]
    },
    {
      "cell_type": "markdown",
      "id": "5642ea67",
      "metadata": {
        "id": "5642ea67"
      },
      "source": [
        "#### Random Forest: Model evaluation - Area Under ROC"
      ]
    },
    {
      "cell_type": "code",
      "execution_count": null,
      "id": "6da3a22f",
      "metadata": {
        "colab": {
          "base_uri": "https://localhost:8080/",
          "referenced_widgets": [
            "ea9093b84ba140b88ba25372379fc8a8",
            ""
          ]
        },
        "id": "6da3a22f",
        "outputId": "e6bac20f-e050-475f-c1f2-63d23eb37162"
      },
      "outputs": [
        {
          "data": {
            "application/vnd.jupyter.widget-view+json": {
              "model_id": "ea9093b84ba140b88ba25372379fc8a8",
              "version_major": 2,
              "version_minor": 0
            },
            "text/plain": [
              "VBox()"
            ]
          },
          "metadata": {},
          "output_type": "display_data"
        },
        {
          "data": {
            "application/vnd.jupyter.widget-view+json": {
              "model_id": "",
              "version_major": 2,
              "version_minor": 0
            },
            "text/plain": [
              "FloatProgress(value=0.0, bar_style='info', description='Progress:', layout=Layout(height='25px', width='50%'),…"
            ]
          },
          "metadata": {},
          "output_type": "display_data"
        },
        {
          "name": "stdout",
          "output_type": "stream",
          "text": [
            "X_validation AUC:  0.9455601019779449\n",
            "Running time 466.82086873054504 s"
          ]
        }
      ],
      "source": [
        "t = time.time()\n",
        "\n",
        "evaluator = BinaryClassificationEvaluator(labelCol='high_fare', metricName='areaUnderROC')\n",
        "print('X_validation AUC: ',evaluator.evaluate(rf_validation_predictions))\n",
        "\n",
        "print('Running time', time.time() - t, 's' )"
      ]
    },
    {
      "cell_type": "markdown",
      "id": "c39585ad",
      "metadata": {
        "id": "c39585ad"
      },
      "source": [
        "#### Random Forest Results: Confusion Matrix "
      ]
    },
    {
      "cell_type": "code",
      "execution_count": null,
      "id": "54964fd1",
      "metadata": {
        "colab": {
          "base_uri": "https://localhost:8080/",
          "referenced_widgets": [
            "e9b38141f978442890d26795086cf556",
            ""
          ]
        },
        "id": "54964fd1",
        "outputId": "c338e4ce-e77f-46c8-cfda-6ebde685e13b"
      },
      "outputs": [
        {
          "data": {
            "application/vnd.jupyter.widget-view+json": {
              "model_id": "e9b38141f978442890d26795086cf556",
              "version_major": 2,
              "version_minor": 0
            },
            "text/plain": [
              "VBox()"
            ]
          },
          "metadata": {},
          "output_type": "display_data"
        },
        {
          "data": {
            "application/vnd.jupyter.widget-view+json": {
              "model_id": "",
              "version_major": 2,
              "version_minor": 0
            },
            "text/plain": [
              "FloatProgress(value=0.0, bar_style='info', description='Progress:', layout=Layout(height='25px', width='50%'),…"
            ]
          },
          "metadata": {},
          "output_type": "display_data"
        },
        {
          "name": "stdout",
          "output_type": "stream",
          "text": [
            "[[2196669.  159907.]\n",
            " [ 272191. 1231152.]]\n",
            "Running time 554.9318630695343 s"
          ]
        }
      ],
      "source": [
        "t = time.time()\n",
        "#important: need to cast to float type, and order by prediction, else it won't work\n",
        "preds_and_labels = rf_validation_predictions.select(['prediction','high_fare']).withColumn('label', col('high_fare').cast(FloatType())).orderBy('prediction')\n",
        "\n",
        "#select only prediction and label columns\n",
        "preds_and_labels = preds_and_labels.select(['prediction','label'])\n",
        "metrics = MulticlassMetrics(preds_and_labels.rdd.map(tuple))\n",
        "print(metrics.confusionMatrix().toArray())\n",
        "\n",
        "print('Running time', time.time() - t, 's' )"
      ]
    },
    {
      "cell_type": "markdown",
      "id": "903d0372",
      "metadata": {
        "id": "903d0372"
      },
      "source": [
        "# MLib Model training - EMR 6 Workers"
      ]
    },
    {
      "cell_type": "markdown",
      "id": "90a3bfad",
      "metadata": {
        "id": "90a3bfad"
      },
      "source": [
        "## Split Training to Train and Validation Set"
      ]
    },
    {
      "cell_type": "code",
      "execution_count": null,
      "id": "83a229a1",
      "metadata": {
        "id": "83a229a1",
        "outputId": "da013f25-89e6-4caa-ffe1-54676db97f0f",
        "colab": {
          "referenced_widgets": [
            "0421b6f717e7442e89b3fcccaea4b8a8",
            ""
          ]
        }
      },
      "outputs": [
        {
          "data": {
            "application/vnd.jupyter.widget-view+json": {
              "model_id": "0421b6f717e7442e89b3fcccaea4b8a8",
              "version_major": 2,
              "version_minor": 0
            },
            "text/plain": [
              "VBox()"
            ]
          },
          "metadata": {},
          "output_type": "display_data"
        },
        {
          "data": {
            "application/vnd.jupyter.widget-view+json": {
              "model_id": "",
              "version_major": 2,
              "version_minor": 0
            },
            "text/plain": [
              "FloatProgress(value=0.0, bar_style='info', description='Progress:', layout=Layout(height='25px', width='50%'),…"
            ]
          },
          "metadata": {},
          "output_type": "display_data"
        },
        {
          "name": "stdout",
          "output_type": "stream",
          "text": [
            "Running time 0.015278100967407227 s"
          ]
        }
      ],
      "source": [
        "t = time.time()\n",
        "X_training, X_validation = training_scaler_df.randomSplit([0.8, 0.2], seed = 2021 )\n",
        "print('Running time', time.time() - t, 's' )"
      ]
    },
    {
      "cell_type": "markdown",
      "id": "c104a50d",
      "metadata": {
        "id": "c104a50d"
      },
      "source": [
        "## Logistic Regression"
      ]
    },
    {
      "cell_type": "markdown",
      "id": "68ffbfbd",
      "metadata": {
        "id": "68ffbfbd"
      },
      "source": [
        "#### Model Training and Validation"
      ]
    },
    {
      "cell_type": "code",
      "execution_count": null,
      "id": "4504af59",
      "metadata": {
        "id": "4504af59",
        "outputId": "5b1cd0bd-8000-46af-9787-bda557c9b7dd",
        "colab": {
          "referenced_widgets": [
            "e5f26d1d0b8a4962af46777e3ebed019",
            ""
          ]
        }
      },
      "outputs": [
        {
          "data": {
            "application/vnd.jupyter.widget-view+json": {
              "model_id": "e5f26d1d0b8a4962af46777e3ebed019",
              "version_major": 2,
              "version_minor": 0
            },
            "text/plain": [
              "VBox()"
            ]
          },
          "metadata": {},
          "output_type": "display_data"
        },
        {
          "data": {
            "application/vnd.jupyter.widget-view+json": {
              "model_id": "",
              "version_major": 2,
              "version_minor": 0
            },
            "text/plain": [
              "FloatProgress(value=0.0, bar_style='info', description='Progress:', layout=Layout(height='25px', width='50%'),…"
            ]
          },
          "metadata": {},
          "output_type": "display_data"
        },
        {
          "name": "stdout",
          "output_type": "stream",
          "text": [
            "Running time 292.12192368507385 s"
          ]
        }
      ],
      "source": [
        "t = time.time()\n",
        "\n",
        "# Logistic Regression\n",
        "lr = LogisticRegression( featuresCol = 'normalized_features', labelCol = 'high_fare', maxIter=15, regParam=0.01, elasticNetParam=0.8 )\n",
        "lrModel = lr.fit(X_training)\n",
        "lr_validation_predictions = lrModel.transform(X_validation)\n",
        "\n",
        "print('Running time', time.time() - t, 's' )"
      ]
    },
    {
      "cell_type": "markdown",
      "id": "a781f62a",
      "metadata": {
        "id": "a781f62a"
      },
      "source": [
        "#### Logistic Regression: Model evaluation - Area Under ROC"
      ]
    },
    {
      "cell_type": "code",
      "execution_count": null,
      "id": "3dde9453",
      "metadata": {
        "id": "3dde9453",
        "outputId": "a953087b-2490-49b0-d3c6-61bbf364b49c",
        "colab": {
          "referenced_widgets": [
            "c38957fd06524cd0bfc2e786f1e38a9a",
            ""
          ]
        }
      },
      "outputs": [
        {
          "data": {
            "application/vnd.jupyter.widget-view+json": {
              "model_id": "c38957fd06524cd0bfc2e786f1e38a9a",
              "version_major": 2,
              "version_minor": 0
            },
            "text/plain": [
              "VBox()"
            ]
          },
          "metadata": {},
          "output_type": "display_data"
        },
        {
          "data": {
            "application/vnd.jupyter.widget-view+json": {
              "model_id": "",
              "version_major": 2,
              "version_minor": 0
            },
            "text/plain": [
              "FloatProgress(value=0.0, bar_style='info', description='Progress:', layout=Layout(height='25px', width='50%'),…"
            ]
          },
          "metadata": {},
          "output_type": "display_data"
        },
        {
          "name": "stdout",
          "output_type": "stream",
          "text": [
            "X_validation AUC:  0.9360667879812692\n",
            "Running time 94.90846014022827 s"
          ]
        }
      ],
      "source": [
        "t = time.time()\n",
        "\n",
        "#Area Under ROC\n",
        "\n",
        "evaluator = BinaryClassificationEvaluator(labelCol='high_fare', metricName='areaUnderROC')\n",
        "print('X_validation AUC: ',evaluator.evaluate(lr_validation_predictions))\n",
        "\n",
        "print('Running time', time.time() - t, 's' )"
      ]
    },
    {
      "cell_type": "markdown",
      "id": "bf66111b",
      "metadata": {
        "id": "bf66111b"
      },
      "source": [
        "#### Logistic regression Results: Confusion matrix"
      ]
    },
    {
      "cell_type": "markdown",
      "id": "8d593e72",
      "metadata": {
        "id": "8d593e72"
      },
      "source": [
        "#### Logistic regression Results: Confusion matrix"
      ]
    },
    {
      "cell_type": "code",
      "execution_count": null,
      "id": "142a3997",
      "metadata": {
        "id": "142a3997",
        "outputId": "c47e486b-d956-474e-ab29-1d2d8dc8880f",
        "colab": {
          "referenced_widgets": [
            "53a6a29805f849d0a291972ec4bcfa47",
            ""
          ]
        }
      },
      "outputs": [
        {
          "data": {
            "application/vnd.jupyter.widget-view+json": {
              "model_id": "53a6a29805f849d0a291972ec4bcfa47",
              "version_major": 2,
              "version_minor": 0
            },
            "text/plain": [
              "VBox()"
            ]
          },
          "metadata": {},
          "output_type": "display_data"
        },
        {
          "data": {
            "application/vnd.jupyter.widget-view+json": {
              "model_id": "",
              "version_major": 2,
              "version_minor": 0
            },
            "text/plain": [
              "FloatProgress(value=0.0, bar_style='info', description='Progress:', layout=Layout(height='25px', width='50%'),…"
            ]
          },
          "metadata": {},
          "output_type": "display_data"
        },
        {
          "name": "stdout",
          "output_type": "stream",
          "text": [
            "[[2244969.  111574.]\n",
            " [ 372992. 1130468.]]\n",
            "Running time 163.77626872062683 s"
          ]
        }
      ],
      "source": [
        "t = time.time()\n",
        "#important: need to cast to float type, and order by prediction, else it won't work\n",
        "preds_and_labels = lr_validation_predictions.select(['prediction','high_fare']).withColumn('label', col('high_fare').cast(FloatType())).orderBy('prediction')\n",
        "\n",
        "#select only prediction and label columns\n",
        "preds_and_labels = preds_and_labels.select(['prediction','label'])\n",
        "metrics = MulticlassMetrics(preds_and_labels.rdd.map(tuple))\n",
        "print(metrics.confusionMatrix().toArray())\n",
        "print('Running time', time.time() - t, 's' )"
      ]
    },
    {
      "cell_type": "markdown",
      "id": "16443c2e",
      "metadata": {
        "id": "16443c2e"
      },
      "source": [
        "## Decision Tree"
      ]
    },
    {
      "cell_type": "markdown",
      "id": "e3ba1e1f",
      "metadata": {
        "id": "e3ba1e1f"
      },
      "source": [
        "#### Mode training and Validation"
      ]
    },
    {
      "cell_type": "code",
      "execution_count": null,
      "id": "16898160",
      "metadata": {
        "id": "16898160",
        "outputId": "b89364ba-3d28-4325-be42-4a29bd171526",
        "colab": {
          "referenced_widgets": [
            "ec8099381a5c41f5b20a60b24574e50f",
            ""
          ]
        }
      },
      "outputs": [
        {
          "data": {
            "application/vnd.jupyter.widget-view+json": {
              "model_id": "ec8099381a5c41f5b20a60b24574e50f",
              "version_major": 2,
              "version_minor": 0
            },
            "text/plain": [
              "VBox()"
            ]
          },
          "metadata": {},
          "output_type": "display_data"
        },
        {
          "data": {
            "application/vnd.jupyter.widget-view+json": {
              "model_id": "",
              "version_major": 2,
              "version_minor": 0
            },
            "text/plain": [
              "FloatProgress(value=0.0, bar_style='info', description='Progress:', layout=Layout(height='25px', width='50%'),…"
            ]
          },
          "metadata": {},
          "output_type": "display_data"
        },
        {
          "name": "stdout",
          "output_type": "stream",
          "text": [
            "Running time 331.93098044395447 s"
          ]
        }
      ],
      "source": [
        "t = time.time()\n",
        "\n",
        "decision_tree = DecisionTreeClassifier(labelCol=\"high_fare\", featuresCol=\"normalized_features\", maxDepth=5, maxBins=20, minInstancesPerNode=2, minInfoGain=0.1)  \n",
        "dtModel = decision_tree.fit(X_training)\n",
        "dt_validation_predictions = dtModel.transform(X_validation)\n",
        "\n",
        "print('Running time', time.time() - t, 's' )"
      ]
    },
    {
      "cell_type": "markdown",
      "id": "b9dd84fc",
      "metadata": {
        "id": "b9dd84fc"
      },
      "source": [
        "#### Decision Tree: model evaluation - Area Under ROC"
      ]
    },
    {
      "cell_type": "code",
      "execution_count": null,
      "id": "5dc01f93",
      "metadata": {
        "id": "5dc01f93",
        "outputId": "c184dc37-3c0d-45c2-dc5d-208eb21b1308",
        "colab": {
          "referenced_widgets": [
            "f4cdf1d719cf4cd78209ff01848f769c",
            ""
          ]
        }
      },
      "outputs": [
        {
          "data": {
            "application/vnd.jupyter.widget-view+json": {
              "model_id": "f4cdf1d719cf4cd78209ff01848f769c",
              "version_major": 2,
              "version_minor": 0
            },
            "text/plain": [
              "VBox()"
            ]
          },
          "metadata": {},
          "output_type": "display_data"
        },
        {
          "data": {
            "application/vnd.jupyter.widget-view+json": {
              "model_id": "",
              "version_major": 2,
              "version_minor": 0
            },
            "text/plain": [
              "FloatProgress(value=0.0, bar_style='info', description='Progress:', layout=Layout(height='25px', width='50%'),…"
            ]
          },
          "metadata": {},
          "output_type": "display_data"
        },
        {
          "name": "stdout",
          "output_type": "stream",
          "text": [
            "X_validation AUC:  0.8473643836922042\n",
            "Running time 81.17938375473022 s"
          ]
        }
      ],
      "source": [
        "t = time.time()\n",
        "\n",
        "evaluator = BinaryClassificationEvaluator(labelCol='high_fare', metricName='areaUnderROC')\n",
        "print('X_validation AUC: ',evaluator.evaluate(dt_validation_predictions))\n",
        "\n",
        "print('Running time', time.time() - t, 's' )"
      ]
    },
    {
      "cell_type": "markdown",
      "id": "0276f433",
      "metadata": {
        "id": "0276f433"
      },
      "source": [
        "#### Decision Tree Results: Confusion Matrix "
      ]
    },
    {
      "cell_type": "code",
      "execution_count": null,
      "id": "ba182a26",
      "metadata": {
        "id": "ba182a26",
        "outputId": "bfae620f-21a3-4156-a0e5-aad3eb329b84",
        "colab": {
          "referenced_widgets": [
            "134aaf2914914be9935abec240583470",
            ""
          ]
        }
      },
      "outputs": [
        {
          "data": {
            "application/vnd.jupyter.widget-view+json": {
              "model_id": "134aaf2914914be9935abec240583470",
              "version_major": 2,
              "version_minor": 0
            },
            "text/plain": [
              "VBox()"
            ]
          },
          "metadata": {},
          "output_type": "display_data"
        },
        {
          "data": {
            "application/vnd.jupyter.widget-view+json": {
              "model_id": "",
              "version_major": 2,
              "version_minor": 0
            },
            "text/plain": [
              "FloatProgress(value=0.0, bar_style='info', description='Progress:', layout=Layout(height='25px', width='50%'),…"
            ]
          },
          "metadata": {},
          "output_type": "display_data"
        },
        {
          "name": "stdout",
          "output_type": "stream",
          "text": [
            "[[2192537.  164006.]\n",
            " [ 355150. 1148310.]]\n",
            "Running time 154.74041962623596 s"
          ]
        }
      ],
      "source": [
        "t = time.time()\n",
        "#important: need to cast to float type, and order by prediction, else it won't work\n",
        "preds_and_labels = dt_validation_predictions.select(['prediction','high_fare']).withColumn('label', col('high_fare').cast(FloatType())).orderBy('prediction')\n",
        "\n",
        "#select only prediction and label columns\n",
        "preds_and_labels = preds_and_labels.select(['prediction','label'])\n",
        "metrics = MulticlassMetrics(preds_and_labels.rdd.map(tuple))\n",
        "print(metrics.confusionMatrix().toArray())\n",
        "print('Running time', time.time() - t, 's' )"
      ]
    },
    {
      "cell_type": "markdown",
      "id": "8ecd8e7a",
      "metadata": {
        "id": "8ecd8e7a"
      },
      "source": [
        "## Random Forest"
      ]
    },
    {
      "cell_type": "markdown",
      "id": "2de135aa",
      "metadata": {
        "id": "2de135aa"
      },
      "source": [
        "#### Model training and Validation"
      ]
    },
    {
      "cell_type": "code",
      "execution_count": null,
      "id": "9ea84cca",
      "metadata": {
        "id": "9ea84cca",
        "outputId": "108ec16b-a031-4ad7-a776-152251708c2b",
        "colab": {
          "referenced_widgets": [
            "d7a143f0672c4e1fb5bcb46e2c9118d6",
            ""
          ]
        }
      },
      "outputs": [
        {
          "data": {
            "application/vnd.jupyter.widget-view+json": {
              "model_id": "d7a143f0672c4e1fb5bcb46e2c9118d6",
              "version_major": 2,
              "version_minor": 0
            },
            "text/plain": [
              "VBox()"
            ]
          },
          "metadata": {},
          "output_type": "display_data"
        },
        {
          "data": {
            "application/vnd.jupyter.widget-view+json": {
              "model_id": "",
              "version_major": 2,
              "version_minor": 0
            },
            "text/plain": [
              "FloatProgress(value=0.0, bar_style='info', description='Progress:', layout=Layout(height='25px', width='50%'),…"
            ]
          },
          "metadata": {},
          "output_type": "display_data"
        },
        {
          "name": "stdout",
          "output_type": "stream",
          "text": [
            "Running time 512.490166425705 s"
          ]
        }
      ],
      "source": [
        "t = time.time()\n",
        "\n",
        "random_forest = RandomForestClassifier(labelCol=\"high_fare\", featuresCol=\"normalized_features\", numTrees=25, maxDepth=10)  \n",
        "\n",
        "rf_model = random_forest.fit(X_training)\n",
        "rf_validation_predictions = rf_model.transform(X_validation)\n",
        "\n",
        "print('Running time', time.time() - t, 's' )"
      ]
    },
    {
      "cell_type": "markdown",
      "id": "834bb95f",
      "metadata": {
        "id": "834bb95f"
      },
      "source": [
        "#### Random Forest: Model evaluation - Area Under ROC"
      ]
    },
    {
      "cell_type": "code",
      "execution_count": null,
      "id": "e7c81ed2",
      "metadata": {
        "id": "e7c81ed2",
        "outputId": "d8d8b9d0-573f-4b7e-86c1-d1ffa161e98c",
        "colab": {
          "referenced_widgets": [
            "62a39db965534379a1f4cf463b5e5292",
            ""
          ]
        }
      },
      "outputs": [
        {
          "data": {
            "application/vnd.jupyter.widget-view+json": {
              "model_id": "62a39db965534379a1f4cf463b5e5292",
              "version_major": 2,
              "version_minor": 0
            },
            "text/plain": [
              "VBox()"
            ]
          },
          "metadata": {},
          "output_type": "display_data"
        },
        {
          "data": {
            "application/vnd.jupyter.widget-view+json": {
              "model_id": "",
              "version_major": 2,
              "version_minor": 0
            },
            "text/plain": [
              "FloatProgress(value=0.0, bar_style='info', description='Progress:', layout=Layout(height='25px', width='50%'),…"
            ]
          },
          "metadata": {},
          "output_type": "display_data"
        },
        {
          "name": "stdout",
          "output_type": "stream",
          "text": [
            "X_validation AUC:  0.9455677714804989\n",
            "Running time 92.07283163070679 s"
          ]
        }
      ],
      "source": [
        "t = time.time()\n",
        "\n",
        "evaluator = BinaryClassificationEvaluator(labelCol='high_fare', metricName='areaUnderROC')\n",
        "print('X_validation AUC: ',evaluator.evaluate(rf_validation_predictions))\n",
        "\n",
        "print('Running time', time.time() - t, 's' )"
      ]
    },
    {
      "cell_type": "markdown",
      "id": "d4cefad0",
      "metadata": {
        "id": "d4cefad0"
      },
      "source": [
        "#### Random Forest Results: Confusion Matrix "
      ]
    },
    {
      "cell_type": "code",
      "execution_count": null,
      "id": "440217f4",
      "metadata": {
        "id": "440217f4",
        "outputId": "e6e30551-d6a7-40e6-b49f-e2bceea8ddf6",
        "colab": {
          "referenced_widgets": [
            "34caf945cc474b7b9482c8417cb70956",
            ""
          ]
        }
      },
      "outputs": [
        {
          "data": {
            "application/vnd.jupyter.widget-view+json": {
              "model_id": "34caf945cc474b7b9482c8417cb70956",
              "version_major": 2,
              "version_minor": 0
            },
            "text/plain": [
              "VBox()"
            ]
          },
          "metadata": {},
          "output_type": "display_data"
        },
        {
          "data": {
            "application/vnd.jupyter.widget-view+json": {
              "model_id": "",
              "version_major": 2,
              "version_minor": 0
            },
            "text/plain": [
              "FloatProgress(value=0.0, bar_style='info', description='Progress:', layout=Layout(height='25px', width='50%'),…"
            ]
          },
          "metadata": {},
          "output_type": "display_data"
        },
        {
          "name": "stdout",
          "output_type": "stream",
          "text": [
            "[[2196399.  160144.]\n",
            " [ 271916. 1231544.]]\n",
            "Running time 154.7771463394165 s"
          ]
        }
      ],
      "source": [
        "t = time.time()\n",
        "#important: need to cast to float type, and order by prediction, else it won't work\n",
        "preds_and_labels = rf_validation_predictions.select(['prediction','high_fare']).withColumn('label', col('high_fare').cast(FloatType())).orderBy('prediction')\n",
        "\n",
        "#select only prediction and label columns\n",
        "preds_and_labels = preds_and_labels.select(['prediction','label'])\n",
        "metrics = MulticlassMetrics(preds_and_labels.rdd.map(tuple))\n",
        "print(metrics.confusionMatrix().toArray())\n",
        "\n",
        "print('Running time', time.time() - t, 's' )"
      ]
    },
    {
      "cell_type": "markdown",
      "id": "868568d0",
      "metadata": {
        "id": "868568d0"
      },
      "source": [
        "# Model Predictions"
      ]
    },
    {
      "cell_type": "markdown",
      "id": "8c8939c1",
      "metadata": {
        "id": "8c8939c1"
      },
      "source": [
        "The model we will choose is the one created with Random Forest algorithm (94.7% AUC)."
      ]
    },
    {
      "cell_type": "code",
      "execution_count": null,
      "id": "76119b05",
      "metadata": {
        "colab": {
          "base_uri": "https://localhost:8080/",
          "referenced_widgets": [
            "5425d05628e241909acd67e425724ea9",
            ""
          ]
        },
        "id": "76119b05",
        "outputId": "3c35dd35-d8e0-4de5-8b8f-8c6fa071c079"
      },
      "outputs": [
        {
          "data": {
            "application/vnd.jupyter.widget-view+json": {
              "model_id": "5425d05628e241909acd67e425724ea9",
              "version_major": 2,
              "version_minor": 0
            },
            "text/plain": [
              "VBox()"
            ]
          },
          "metadata": {},
          "output_type": "display_data"
        },
        {
          "data": {
            "application/vnd.jupyter.widget-view+json": {
              "model_id": "",
              "version_major": 2,
              "version_minor": 0
            },
            "text/plain": [
              "FloatProgress(value=0.0, bar_style='info', description='Progress:', layout=Layout(height='25px', width='50%'),…"
            ]
          },
          "metadata": {},
          "output_type": "display_data"
        },
        {
          "name": "stdout",
          "output_type": "stream",
          "text": [
            "Running time 0.10668110847473145 s"
          ]
        }
      ],
      "source": [
        "t = time.time()\n",
        "lr_test_predictions = lrModel.transform(testing_scaler_df)\n",
        "rf_test_predictions = rf_model.transform(testing_scaler_df)\n",
        "print('Running time', time.time() - t, 's' )"
      ]
    },
    {
      "cell_type": "code",
      "execution_count": null,
      "id": "dd49bc5f",
      "metadata": {
        "colab": {
          "base_uri": "https://localhost:8080/",
          "referenced_widgets": [
            "4415c8fa2d9748c7aa9289a281816d0d",
            ""
          ]
        },
        "id": "dd49bc5f",
        "outputId": "b062afc7-037a-49cf-bd1e-6defe0da808c"
      },
      "outputs": [
        {
          "data": {
            "application/vnd.jupyter.widget-view+json": {
              "model_id": "4415c8fa2d9748c7aa9289a281816d0d",
              "version_major": 2,
              "version_minor": 0
            },
            "text/plain": [
              "VBox()"
            ]
          },
          "metadata": {},
          "output_type": "display_data"
        },
        {
          "data": {
            "application/vnd.jupyter.widget-view+json": {
              "model_id": "",
              "version_major": 2,
              "version_minor": 0
            },
            "text/plain": [
              "FloatProgress(value=0.0, bar_style='info', description='Progress:', layout=Layout(height='25px', width='50%'),…"
            ]
          },
          "metadata": {},
          "output_type": "display_data"
        },
        {
          "name": "stdout",
          "output_type": "stream",
          "text": [
            "+--------+---------+\n",
            "|     key|high_fare|\n",
            "+--------+---------+\n",
            "|19990001|      0.0|\n",
            "|19990002|      1.0|\n",
            "|19990003|      0.0|\n",
            "|19990004|      0.0|\n",
            "|19990005|      0.0|\n",
            "|19990006|      0.0|\n",
            "|19990007|      0.0|\n",
            "|19990008|      0.0|\n",
            "|19990009|      0.0|\n",
            "|19990010|      0.0|\n",
            "+--------+---------+\n",
            "only showing top 10 rows"
          ]
        }
      ],
      "source": [
        "lr_test_predictions = lr_test_predictions.withColumn(\"k\", lr_test_predictions.key.cast(\"Decimal(15,0)\"))\n",
        "lr_test_predictions = lr_test_predictions.withColumnRenamed('prediction', 'high_fare')\n",
        "lr_test_predictions = lr_test_predictions.select(['k','high_fare'])\n",
        "lr_test_predictions = lr_test_predictions.withColumnRenamed('k', 'key')\n",
        "# lr_test_predictions.show(10)\n",
        "\n",
        "rf_test_predictions = rf_test_predictions.withColumn(\"k\", rf_test_predictions.key.cast(\"Decimal(15,0)\"))\n",
        "rf_test_predictions = rf_test_predictions.withColumnRenamed('prediction', 'high_fare')\n",
        "rf_test_predictions = rf_test_predictions.select(['k','high_fare'])\n",
        "rf_test_predictions = rf_test_predictions.withColumnRenamed('k', 'key')\n",
        "\n",
        "rf_test_predictions.show(10)"
      ]
    },
    {
      "cell_type": "markdown",
      "id": "5f6880a7",
      "metadata": {
        "id": "5f6880a7"
      },
      "source": [
        "### Write to csv"
      ]
    },
    {
      "cell_type": "code",
      "execution_count": null,
      "id": "a4bc1aa8",
      "metadata": {
        "id": "a4bc1aa8",
        "outputId": "9a315ee1-6e80-49b5-a0d3-1b4d3ba5f0f7",
        "colab": {
          "referenced_widgets": [
            "bd1ee7ad4bbc4880a48a2657dfc9aac3",
            ""
          ]
        }
      },
      "outputs": [
        {
          "data": {
            "application/vnd.jupyter.widget-view+json": {
              "model_id": "bd1ee7ad4bbc4880a48a2657dfc9aac3",
              "version_major": 2,
              "version_minor": 0
            },
            "text/plain": [
              "VBox()"
            ]
          },
          "metadata": {},
          "output_type": "display_data"
        },
        {
          "data": {
            "application/vnd.jupyter.widget-view+json": {
              "model_id": "",
              "version_major": 2,
              "version_minor": 0
            },
            "text/plain": [
              "FloatProgress(value=0.0, bar_style='info', description='Progress:', layout=Layout(height='25px', width='50%'),…"
            ]
          },
          "metadata": {},
          "output_type": "display_data"
        }
      ],
      "source": [
        "# lr_test_predictions.repartition(1) \\\n",
        "#   .write \\\n",
        "#   .mode('overwrite') \\\n",
        "#   .option('header', 'true') \\\n",
        "#   .option('sep',',') \\\n",
        "#   .csv('s3://aws-logs-735929014102-us-east-1/elasticmapreduce/lr_GilZeevi_203909320_JoelLiurner_346243579.csv')\n",
        "\n",
        "rf_test_predictions.repartition(1) \\\n",
        "  .write \\\n",
        "  .mode('overwrite') \\\n",
        "  .option('header', 'true') \\\n",
        "  .option('sep',',') \\\n",
        "  .csv('s3://aws-logs-735929014102-us-east-1/elasticmapreduce/rm_GilZeevi_203909320_JoelLiurner_346243579.csv')"
      ]
    },
    {
      "cell_type": "code",
      "execution_count": null,
      "id": "9fae11e4",
      "metadata": {
        "id": "9fae11e4"
      },
      "outputs": [],
      "source": [
        "spark.stop()"
      ]
    }
  ],
  "metadata": {
    "colab": {
      "collapsed_sections": [],
      "name": "1_and_10_workers_EMR_ntbk_FinalProject.ipynb",
      "provenance": []
    },
    "kernelspec": {
      "display_name": "PySpark",
      "language": "",
      "name": "pysparkkernel"
    },
    "language_info": {
      "codemirror_mode": {
        "name": "python",
        "version": 3
      },
      "mimetype": "text/x-python",
      "name": "pyspark",
      "pygments_lexer": "python3"
    }
  },
  "nbformat": 4,
  "nbformat_minor": 5
}